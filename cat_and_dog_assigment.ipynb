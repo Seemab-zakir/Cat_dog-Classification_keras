{
  "cells": [
    {
      "cell_type": "markdown",
      "metadata": {
        "id": "view-in-github",
        "colab_type": "text"
      },
      "source": [
        "<a href=\"https://colab.research.google.com/github/Seemab-zakir/Cat_dog-Classification_keras/blob/main/cat_and_dog_assigment.ipynb\" target=\"_parent\"><img src=\"https://colab.research.google.com/assets/colab-badge.svg\" alt=\"Open In Colab\"/></a>"
      ]
    },
    {
      "cell_type": "code",
      "execution_count": 1,
      "metadata": {
        "colab": {
          "base_uri": "https://localhost:8080/"
        },
        "id": "fA7bdAtSefX-",
        "outputId": "984907ea-e2fc-426c-9615-89a9129ec1e5"
      },
      "outputs": [
        {
          "output_type": "stream",
          "name": "stdout",
          "text": [
            "Mounted at /content/gdrive\n"
          ]
        }
      ],
      "source": [
        "from google.colab import drive\n",
        "drive.mount('/content/gdrive')"
      ]
    },
    {
      "cell_type": "code",
      "execution_count": 2,
      "metadata": {
        "id": "84KUyT8nhpwN"
      },
      "outputs": [],
      "source": [
        "import tensorflow as tf\n",
        "from keras.preprocessing import image\n",
        "import os\n",
        "from sklearn.utils import shuffle\n",
        "from tensorflow.keras.preprocessing.image import load_img, img_to_array, array_to_img, ImageDataGenerator\n",
        "from tensorflow.keras.applications import vgg16 \n",
        "from keras.applications.vgg16 import preprocess_input\n",
        "import numpy as np\n"
      ]
    },
    {
      "cell_type": "code",
      "execution_count": 3,
      "metadata": {
        "id": "TP6u2k4s7frp"
      },
      "outputs": [],
      "source": [
        "import pandas as pd \n",
        "from keras.utils import to_categorical\n",
        "from sklearn.model_selection import train_test_split\n",
        "import matplotlib.pyplot as plt\n",
        "import random"
      ]
    },
    {
      "cell_type": "code",
      "execution_count": 4,
      "metadata": {
        "colab": {
          "base_uri": "https://localhost:8080/"
        },
        "id": "4Ra_s6uff7dB",
        "outputId": "9a5fd633-19e2-445d-ae9b-cabb3d9ab071"
      },
      "outputs": [
        {
          "output_type": "stream",
          "name": "stdout",
          "text": [
            "Archive:  /content/gdrive/MyDrive/dog_and_cat.zip\n",
            "  inflating: dog_and_cat/cat.1.jpg   \n",
            "  inflating: dog_and_cat/cat.10.jpg  \n",
            "  inflating: dog_and_cat/cat.100.jpg  \n",
            "  inflating: dog_and_cat/cat.101.jpg  \n",
            "  inflating: dog_and_cat/cat.102.jpg  \n",
            "  inflating: dog_and_cat/cat.103.jpg  \n",
            "  inflating: dog_and_cat/cat.104.jpg  \n",
            "  inflating: dog_and_cat/cat.106.jpg  \n",
            "  inflating: dog_and_cat/cat.107.jpg  \n",
            "  inflating: dog_and_cat/cat.108.jpg  \n",
            "  inflating: dog_and_cat/cat.109.jpg  \n",
            "  inflating: dog_and_cat/cat.11.jpg  \n",
            "  inflating: dog_and_cat/cat.110.jpg  \n",
            "  inflating: dog_and_cat/cat.111.jpg  \n",
            "  inflating: dog_and_cat/cat.113.jpg  \n",
            "  inflating: dog_and_cat/cat.114.jpg  \n",
            "  inflating: dog_and_cat/cat.115.jpg  \n",
            "  inflating: dog_and_cat/cat.116.jpg  \n",
            "  inflating: dog_and_cat/cat.117.jpg  \n",
            "  inflating: dog_and_cat/cat.118.jpg  \n",
            "  inflating: dog_and_cat/cat.12.jpg  \n",
            "  inflating: dog_and_cat/cat.120.jpg  \n",
            "  inflating: dog_and_cat/cat.121.jpg  \n",
            "  inflating: dog_and_cat/cat.122.jpg  \n",
            "  inflating: dog_and_cat/cat.123.jpg  \n",
            "  inflating: dog_and_cat/cat.124.jpg  \n",
            "  inflating: dog_and_cat/cat.125.jpg  \n",
            "  inflating: dog_and_cat/cat.127.jpg  \n",
            "  inflating: dog_and_cat/cat.128.jpg  \n",
            "  inflating: dog_and_cat/cat.129.jpg  \n",
            "  inflating: dog_and_cat/cat.13.jpg  \n",
            "  inflating: dog_and_cat/cat.130.jpg  \n",
            "  inflating: dog_and_cat/cat.131.jpg  \n",
            "  inflating: dog_and_cat/cat.132.jpg  \n",
            "  inflating: dog_and_cat/cat.134.jpg  \n",
            "  inflating: dog_and_cat/cat.135.jpg  \n",
            "  inflating: dog_and_cat/cat.136.jpg  \n",
            "  inflating: dog_and_cat/cat.137.jpg  \n",
            "  inflating: dog_and_cat/cat.138.jpg  \n",
            "  inflating: dog_and_cat/cat.139.jpg  \n",
            "  inflating: dog_and_cat/cat.141.jpg  \n",
            "  inflating: dog_and_cat/cat.142.jpg  \n",
            "  inflating: dog_and_cat/cat.143.jpg  \n",
            "  inflating: dog_and_cat/cat.144.jpg  \n",
            "  inflating: dog_and_cat/cat.145.jpg  \n",
            "  inflating: dog_and_cat/cat.146.jpg  \n",
            "  inflating: dog_and_cat/cat.148.jpg  \n",
            "  inflating: dog_and_cat/cat.149.jpg  \n",
            "  inflating: dog_and_cat/cat.15.jpg  \n",
            "  inflating: dog_and_cat/cat.150.jpg  \n",
            "  inflating: dog_and_cat/cat.151.jpg  \n",
            "  inflating: dog_and_cat/cat.152.jpg  \n",
            "  inflating: dog_and_cat/cat.153.jpg  \n",
            "  inflating: dog_and_cat/cat.155.jpg  \n",
            "  inflating: dog_and_cat/cat.156.jpg  \n",
            "  inflating: dog_and_cat/cat.157.jpg  \n",
            "  inflating: dog_and_cat/cat.158.jpg  \n",
            "  inflating: dog_and_cat/cat.159.jpg  \n",
            "  inflating: dog_and_cat/cat.16.jpg  \n",
            "  inflating: dog_and_cat/cat.160.jpg  \n",
            "  inflating: dog_and_cat/cat.162.jpg  \n",
            "  inflating: dog_and_cat/cat.163.jpg  \n",
            "  inflating: dog_and_cat/cat.164.jpg  \n",
            "  inflating: dog_and_cat/cat.165.jpg  \n",
            "  inflating: dog_and_cat/cat.166.jpg  \n",
            "  inflating: dog_and_cat/cat.167.jpg  \n",
            "  inflating: dog_and_cat/cat.169.jpg  \n",
            "  inflating: dog_and_cat/cat.17.jpg  \n",
            "  inflating: dog_and_cat/cat.170.jpg  \n",
            "  inflating: dog_and_cat/cat.171.jpg  \n",
            "  inflating: dog_and_cat/cat.172.jpg  \n",
            "  inflating: dog_and_cat/cat.173.jpg  \n",
            "  inflating: dog_and_cat/cat.174.jpg  \n",
            "  inflating: dog_and_cat/cat.176.jpg  \n",
            "  inflating: dog_and_cat/cat.177.jpg  \n",
            "  inflating: dog_and_cat/cat.178.jpg  \n",
            "  inflating: dog_and_cat/cat.179.jpg  \n",
            "  inflating: dog_and_cat/cat.18.jpg  \n",
            "  inflating: dog_and_cat/cat.180.jpg  \n",
            "  inflating: dog_and_cat/cat.181.jpg  \n",
            "  inflating: dog_and_cat/cat.183.jpg  \n",
            "  inflating: dog_and_cat/cat.184.jpg  \n",
            "  inflating: dog_and_cat/cat.185.jpg  \n",
            "  inflating: dog_and_cat/cat.186.jpg  \n",
            "  inflating: dog_and_cat/cat.187.jpg  \n",
            "  inflating: dog_and_cat/cat.188.jpg  \n",
            "  inflating: dog_and_cat/cat.19.jpg  \n",
            "  inflating: dog_and_cat/cat.190.jpg  \n",
            "  inflating: dog_and_cat/cat.191.jpg  \n",
            "  inflating: dog_and_cat/cat.192.jpg  \n",
            "  inflating: dog_and_cat/cat.193.jpg  \n",
            "  inflating: dog_and_cat/cat.194.jpg  \n",
            "  inflating: dog_and_cat/cat.195.jpg  \n",
            "  inflating: dog_and_cat/cat.197.jpg  \n",
            "  inflating: dog_and_cat/cat.198.jpg  \n",
            "  inflating: dog_and_cat/cat.199.jpg  \n",
            "  inflating: dog_and_cat/cat.2.jpg   \n",
            "  inflating: dog_and_cat/cat.20.jpg  \n",
            "  inflating: dog_and_cat/cat.200.jpg  \n",
            "  inflating: dog_and_cat/cat.201.jpg  \n",
            "  inflating: dog_and_cat/cat.202.jpg  \n",
            "  inflating: dog_and_cat/cat.204.jpg  \n",
            "  inflating: dog_and_cat/cat.205.jpg  \n",
            "  inflating: dog_and_cat/cat.206.jpg  \n",
            "  inflating: dog_and_cat/cat.207.jpg  \n",
            "  inflating: dog_and_cat/cat.208.jpg  \n",
            "  inflating: dog_and_cat/cat.209.jpg  \n",
            "  inflating: dog_and_cat/cat.211.jpg  \n",
            "  inflating: dog_and_cat/cat.212.jpg  \n",
            "  inflating: dog_and_cat/cat.213.jpg  \n",
            "  inflating: dog_and_cat/cat.214.jpg  \n",
            "  inflating: dog_and_cat/cat.215.jpg  \n",
            "  inflating: dog_and_cat/cat.216.jpg  \n",
            "  inflating: dog_and_cat/cat.218.jpg  \n",
            "  inflating: dog_and_cat/cat.219.jpg  \n",
            "  inflating: dog_and_cat/cat.22.jpg  \n",
            "  inflating: dog_and_cat/cat.220.jpg  \n",
            "  inflating: dog_and_cat/cat.221.jpg  \n",
            "  inflating: dog_and_cat/cat.222.jpg  \n",
            "  inflating: dog_and_cat/cat.223.jpg  \n",
            "  inflating: dog_and_cat/cat.225.jpg  \n",
            "  inflating: dog_and_cat/cat.226.jpg  \n",
            "  inflating: dog_and_cat/cat.227.jpg  \n",
            "  inflating: dog_and_cat/cat.228.jpg  \n",
            "  inflating: dog_and_cat/cat.229.jpg  \n",
            "  inflating: dog_and_cat/cat.23.jpg  \n",
            "  inflating: dog_and_cat/cat.230.jpg  \n",
            "  inflating: dog_and_cat/cat.232.jpg  \n",
            "  inflating: dog_and_cat/cat.233.jpg  \n",
            "  inflating: dog_and_cat/cat.234.jpg  \n",
            "  inflating: dog_and_cat/cat.235.jpg  \n",
            "  inflating: dog_and_cat/cat.236.jpg  \n",
            "  inflating: dog_and_cat/cat.237.jpg  \n",
            "  inflating: dog_and_cat/cat.239.jpg  \n",
            "  inflating: dog_and_cat/cat.24.jpg  \n",
            "  inflating: dog_and_cat/cat.240.jpg  \n",
            "  inflating: dog_and_cat/cat.241.jpg  \n",
            "  inflating: dog_and_cat/cat.242.jpg  \n",
            "  inflating: dog_and_cat/cat.243.jpg  \n",
            "  inflating: dog_and_cat/cat.244.jpg  \n",
            "  inflating: dog_and_cat/cat.246.jpg  \n",
            "  inflating: dog_and_cat/cat.247.jpg  \n",
            "  inflating: dog_and_cat/cat.248.jpg  \n",
            "  inflating: dog_and_cat/cat.249.jpg  \n",
            "  inflating: dog_and_cat/cat.25.jpg  \n",
            "  inflating: dog_and_cat/cat.250.jpg  \n",
            "  inflating: dog_and_cat/cat.251.jpg  \n",
            "  inflating: dog_and_cat/cat.253.jpg  \n",
            "  inflating: dog_and_cat/cat.254.jpg  \n",
            "  inflating: dog_and_cat/cat.255.jpg  \n",
            "  inflating: dog_and_cat/cat.256.jpg  \n",
            "  inflating: dog_and_cat/cat.257.jpg  \n",
            "  inflating: dog_and_cat/cat.258.jpg  \n",
            "  inflating: dog_and_cat/cat.26.jpg  \n",
            "  inflating: dog_and_cat/cat.260.jpg  \n",
            "  inflating: dog_and_cat/cat.261.jpg  \n",
            "  inflating: dog_and_cat/cat.262.jpg  \n",
            "  inflating: dog_and_cat/cat.263.jpg  \n",
            "  inflating: dog_and_cat/cat.264.jpg  \n",
            "  inflating: dog_and_cat/cat.265.jpg  \n",
            "  inflating: dog_and_cat/cat.267.jpg  \n",
            "  inflating: dog_and_cat/cat.268.jpg  \n",
            "  inflating: dog_and_cat/cat.269.jpg  \n",
            "  inflating: dog_and_cat/cat.27.jpg  \n",
            "  inflating: dog_and_cat/cat.270.jpg  \n",
            "  inflating: dog_and_cat/cat.271.jpg  \n",
            "  inflating: dog_and_cat/cat.272.jpg  \n",
            "  inflating: dog_and_cat/cat.274.jpg  \n",
            "  inflating: dog_and_cat/cat.275.jpg  \n",
            "  inflating: dog_and_cat/cat.276.jpg  \n",
            "  inflating: dog_and_cat/cat.277.jpg  \n",
            "  inflating: dog_and_cat/cat.278.jpg  \n",
            "  inflating: dog_and_cat/cat.279.jpg  \n",
            "  inflating: dog_and_cat/cat.281.jpg  \n",
            "  inflating: dog_and_cat/cat.282.jpg  \n",
            "  inflating: dog_and_cat/cat.283.jpg  \n",
            "  inflating: dog_and_cat/cat.284.jpg  \n",
            "  inflating: dog_and_cat/cat.285.jpg  \n",
            "  inflating: dog_and_cat/cat.286.jpg  \n",
            "  inflating: dog_and_cat/cat.288.jpg  \n",
            "  inflating: dog_and_cat/cat.289.jpg  \n",
            "  inflating: dog_and_cat/cat.29.jpg  \n",
            "  inflating: dog_and_cat/cat.290.jpg  \n",
            "  inflating: dog_and_cat/cat.291.jpg  \n",
            "  inflating: dog_and_cat/cat.292.jpg  \n",
            "  inflating: dog_and_cat/cat.293.jpg  \n",
            "  inflating: dog_and_cat/cat.295.jpg  \n",
            "  inflating: dog_and_cat/cat.296.jpg  \n",
            "  inflating: dog_and_cat/cat.297.jpg  \n",
            "  inflating: dog_and_cat/cat.298.jpg  \n",
            "  inflating: dog_and_cat/cat.299.jpg  \n",
            "  inflating: dog_and_cat/cat.3.jpg   \n",
            "  inflating: dog_and_cat/cat.30.jpg  \n",
            "  inflating: dog_and_cat/cat.300.jpg  \n",
            "  inflating: dog_and_cat/cat.302.jpg  \n",
            "  inflating: dog_and_cat/cat.303.jpg  \n",
            "  inflating: dog_and_cat/cat.304.jpg  \n",
            "  inflating: dog_and_cat/cat.305.jpg  \n",
            "  inflating: dog_and_cat/cat.306.jpg  \n",
            "  inflating: dog_and_cat/cat.307.jpg  \n",
            "  inflating: dog_and_cat/cat.309.jpg  \n",
            "  inflating: dog_and_cat/cat.31.jpg  \n",
            "  inflating: dog_and_cat/cat.310.jpg  \n",
            "  inflating: dog_and_cat/cat.311.jpg  \n",
            "  inflating: dog_and_cat/cat.312.jpg  \n",
            "  inflating: dog_and_cat/cat.313.jpg  \n",
            "  inflating: dog_and_cat/cat.314.jpg  \n",
            "  inflating: dog_and_cat/cat.316.jpg  \n",
            "  inflating: dog_and_cat/cat.317.jpg  \n",
            "  inflating: dog_and_cat/cat.318.jpg  \n",
            "  inflating: dog_and_cat/cat.319.jpg  \n",
            "  inflating: dog_and_cat/cat.32.jpg  \n",
            "  inflating: dog_and_cat/cat.320.jpg  \n",
            "  inflating: dog_and_cat/cat.321.jpg  \n",
            "  inflating: dog_and_cat/cat.323.jpg  \n",
            "  inflating: dog_and_cat/cat.324.jpg  \n",
            "  inflating: dog_and_cat/cat.325.jpg  \n",
            "  inflating: dog_and_cat/cat.326.jpg  \n",
            "  inflating: dog_and_cat/cat.327.jpg  \n",
            "  inflating: dog_and_cat/cat.328.jpg  \n",
            "  inflating: dog_and_cat/cat.33.jpg  \n",
            "  inflating: dog_and_cat/cat.330.jpg  \n",
            "  inflating: dog_and_cat/cat.331.jpg  \n",
            "  inflating: dog_and_cat/cat.332.jpg  \n",
            "  inflating: dog_and_cat/cat.333.jpg  \n",
            "  inflating: dog_and_cat/cat.334.jpg  \n",
            "  inflating: dog_and_cat/cat.335.jpg  \n",
            "  inflating: dog_and_cat/cat.337.jpg  \n",
            "  inflating: dog_and_cat/cat.338.jpg  \n",
            "  inflating: dog_and_cat/cat.339.jpg  \n",
            "  inflating: dog_and_cat/cat.34.jpg  \n",
            "  inflating: dog_and_cat/cat.340.jpg  \n",
            "  inflating: dog_and_cat/cat.341.jpg  \n",
            "  inflating: dog_and_cat/cat.342.jpg  \n",
            "  inflating: dog_and_cat/cat.344.jpg  \n",
            "  inflating: dog_and_cat/cat.345.jpg  \n",
            "  inflating: dog_and_cat/cat.346.jpg  \n",
            "  inflating: dog_and_cat/cat.347.jpg  \n",
            "  inflating: dog_and_cat/cat.348.jpg  \n",
            "  inflating: dog_and_cat/cat.349.jpg  \n",
            "  inflating: dog_and_cat/cat.351.jpg  \n",
            "  inflating: dog_and_cat/cat.352.jpg  \n",
            "  inflating: dog_and_cat/cat.353.jpg  \n",
            "  inflating: dog_and_cat/cat.354.jpg  \n",
            "  inflating: dog_and_cat/cat.355.jpg  \n",
            "  inflating: dog_and_cat/cat.356.jpg  \n",
            "  inflating: dog_and_cat/cat.358.jpg  \n",
            "  inflating: dog_and_cat/cat.359.jpg  \n",
            "  inflating: dog_and_cat/cat.36.jpg  \n",
            "  inflating: dog_and_cat/cat.360.jpg  \n",
            "  inflating: dog_and_cat/cat.361.jpg  \n",
            "  inflating: dog_and_cat/cat.362.jpg  \n",
            "  inflating: dog_and_cat/cat.363.jpg  \n",
            "  inflating: dog_and_cat/cat.365.jpg  \n",
            "  inflating: dog_and_cat/cat.366.jpg  \n",
            "  inflating: dog_and_cat/cat.367.jpg  \n",
            "  inflating: dog_and_cat/cat.368.jpg  \n",
            "  inflating: dog_and_cat/cat.369.jpg  \n",
            "  inflating: dog_and_cat/cat.37.jpg  \n",
            "  inflating: dog_and_cat/cat.370.jpg  \n",
            "  inflating: dog_and_cat/cat.372.jpg  \n",
            "  inflating: dog_and_cat/cat.373.jpg  \n",
            "  inflating: dog_and_cat/cat.374.jpg  \n",
            "  inflating: dog_and_cat/cat.375.jpg  \n",
            "  inflating: dog_and_cat/cat.376.jpg  \n",
            "  inflating: dog_and_cat/cat.377.jpg  \n",
            "  inflating: dog_and_cat/cat.379.jpg  \n",
            "  inflating: dog_and_cat/cat.38.jpg  \n",
            "  inflating: dog_and_cat/cat.380.jpg  \n",
            "  inflating: dog_and_cat/cat.381.jpg  \n",
            "  inflating: dog_and_cat/cat.382.jpg  \n",
            "  inflating: dog_and_cat/cat.383.jpg  \n",
            "  inflating: dog_and_cat/cat.384.jpg  \n",
            "  inflating: dog_and_cat/cat.386.jpg  \n",
            "  inflating: dog_and_cat/cat.387.jpg  \n",
            "  inflating: dog_and_cat/cat.388.jpg  \n",
            "  inflating: dog_and_cat/cat.389.jpg  \n",
            "  inflating: dog_and_cat/cat.39.jpg  \n",
            "  inflating: dog_and_cat/cat.390.jpg  \n",
            "  inflating: dog_and_cat/cat.391.jpg  \n",
            "  inflating: dog_and_cat/cat.393.jpg  \n",
            "  inflating: dog_and_cat/cat.394.jpg  \n",
            "  inflating: dog_and_cat/cat.395.jpg  \n",
            "  inflating: dog_and_cat/cat.396.jpg  \n",
            "  inflating: dog_and_cat/cat.397.jpg  \n",
            "  inflating: dog_and_cat/cat.398.jpg  \n",
            "  inflating: dog_and_cat/cat.4.jpg   \n",
            "  inflating: dog_and_cat/cat.40.jpg  \n",
            "  inflating: dog_and_cat/cat.400.jpg  \n",
            "  inflating: dog_and_cat/cat.401.jpg  \n",
            "  inflating: dog_and_cat/cat.402.jpg  \n",
            "  inflating: dog_and_cat/cat.403.jpg  \n",
            "  inflating: dog_and_cat/cat.404.jpg  \n",
            "  inflating: dog_and_cat/cat.405.jpg  \n",
            "  inflating: dog_and_cat/cat.407.jpg  \n",
            "  inflating: dog_and_cat/cat.408.jpg  \n",
            "  inflating: dog_and_cat/cat.409.jpg  \n",
            "  inflating: dog_and_cat/cat.41.jpg  \n",
            "  inflating: dog_and_cat/cat.410.jpg  \n",
            "  inflating: dog_and_cat/cat.411.jpg  \n",
            "  inflating: dog_and_cat/cat.412.jpg  \n",
            "  inflating: dog_and_cat/cat.414.jpg  \n",
            "  inflating: dog_and_cat/cat.415.jpg  \n",
            "  inflating: dog_and_cat/cat.416.jpg  \n",
            "  inflating: dog_and_cat/cat.417.jpg  \n",
            "  inflating: dog_and_cat/cat.418.jpg  \n",
            "  inflating: dog_and_cat/cat.419.jpg  \n",
            "  inflating: dog_and_cat/cat.421.jpg  \n",
            "  inflating: dog_and_cat/cat.422.jpg  \n",
            "  inflating: dog_and_cat/cat.423.jpg  \n",
            "  inflating: dog_and_cat/cat.424.jpg  \n",
            "  inflating: dog_and_cat/cat.425.jpg  \n",
            "  inflating: dog_and_cat/cat.426.jpg  \n",
            "  inflating: dog_and_cat/cat.428.jpg  \n",
            "  inflating: dog_and_cat/cat.429.jpg  \n",
            "  inflating: dog_and_cat/cat.43.jpg  \n",
            "  inflating: dog_and_cat/cat.430.jpg  \n",
            "  inflating: dog_and_cat/cat.431.jpg  \n",
            "  inflating: dog_and_cat/cat.432.jpg  \n",
            "  inflating: dog_and_cat/cat.433.jpg  \n",
            "  inflating: dog_and_cat/cat.435.jpg  \n",
            "  inflating: dog_and_cat/cat.436.jpg  \n",
            "  inflating: dog_and_cat/cat.437.jpg  \n",
            "  inflating: dog_and_cat/cat.438.jpg  \n",
            "  inflating: dog_and_cat/cat.439.jpg  \n",
            "  inflating: dog_and_cat/cat.44.jpg  \n",
            "  inflating: dog_and_cat/cat.440.jpg  \n",
            "  inflating: dog_and_cat/cat.442.jpg  \n",
            "  inflating: dog_and_cat/cat.443.jpg  \n",
            "  inflating: dog_and_cat/cat.444.jpg  \n",
            "  inflating: dog_and_cat/cat.445.jpg  \n",
            "  inflating: dog_and_cat/cat.446.jpg  \n",
            "  inflating: dog_and_cat/cat.447.jpg  \n",
            "  inflating: dog_and_cat/cat.449.jpg  \n",
            "  inflating: dog_and_cat/cat.45.jpg  \n",
            "  inflating: dog_and_cat/cat.450.jpg  \n",
            "  inflating: dog_and_cat/cat.451.jpg  \n",
            "  inflating: dog_and_cat/cat.452.jpg  \n",
            "  inflating: dog_and_cat/cat.453.jpg  \n",
            "  inflating: dog_and_cat/cat.454.jpg  \n",
            "  inflating: dog_and_cat/cat.456.jpg  \n",
            "  inflating: dog_and_cat/cat.457.jpg  \n",
            "  inflating: dog_and_cat/cat.458.jpg  \n",
            "  inflating: dog_and_cat/cat.459.jpg  \n",
            "  inflating: dog_and_cat/cat.46.jpg  \n",
            "  inflating: dog_and_cat/cat.460.jpg  \n",
            "  inflating: dog_and_cat/cat.461.jpg  \n",
            "  inflating: dog_and_cat/cat.463.jpg  \n",
            "  inflating: dog_and_cat/cat.464.jpg  \n",
            "  inflating: dog_and_cat/cat.465.jpg  \n",
            "  inflating: dog_and_cat/cat.466.jpg  \n",
            "  inflating: dog_and_cat/cat.467.jpg  \n",
            "  inflating: dog_and_cat/cat.468.jpg  \n",
            "  inflating: dog_and_cat/cat.47.jpg  \n",
            "  inflating: dog_and_cat/cat.470.jpg  \n",
            "  inflating: dog_and_cat/cat.471.jpg  \n",
            "  inflating: dog_and_cat/cat.472.jpg  \n",
            "  inflating: dog_and_cat/cat.473.jpg  \n",
            "  inflating: dog_and_cat/cat.474.jpg  \n",
            "  inflating: dog_and_cat/cat.475.jpg  \n",
            "  inflating: dog_and_cat/cat.477.jpg  \n",
            "  inflating: dog_and_cat/cat.478.jpg  \n",
            "  inflating: dog_and_cat/cat.479.jpg  \n",
            "  inflating: dog_and_cat/cat.48.jpg  \n",
            "  inflating: dog_and_cat/cat.480.jpg  \n",
            "  inflating: dog_and_cat/cat.481.jpg  \n",
            "  inflating: dog_and_cat/cat.482.jpg  \n",
            "  inflating: dog_and_cat/cat.484.jpg  \n",
            "  inflating: dog_and_cat/cat.485.jpg  \n",
            "  inflating: dog_and_cat/cat.486.jpg  \n",
            "  inflating: dog_and_cat/cat.487.jpg  \n",
            "  inflating: dog_and_cat/cat.488.jpg  \n",
            "  inflating: dog_and_cat/cat.489.jpg  \n",
            "  inflating: dog_and_cat/cat.491.jpg  \n",
            "  inflating: dog_and_cat/cat.492.jpg  \n",
            "  inflating: dog_and_cat/cat.493.jpg  \n",
            "  inflating: dog_and_cat/cat.494.jpg  \n",
            "  inflating: dog_and_cat/cat.495.jpg  \n",
            "  inflating: dog_and_cat/cat.496.jpg  \n",
            "  inflating: dog_and_cat/cat.498.jpg  \n",
            "  inflating: dog_and_cat/cat.499.jpg  \n",
            "  inflating: dog_and_cat/cat.5.jpg   \n",
            "  inflating: dog_and_cat/cat.50.jpg  \n",
            "  inflating: dog_and_cat/cat.500.jpg  \n",
            "  inflating: dog_and_cat/cat.501.jpg  \n",
            "  inflating: dog_and_cat/cat.502.jpg  \n",
            "  inflating: dog_and_cat/cat.503.jpg  \n",
            "  inflating: dog_and_cat/cat.505.jpg  \n",
            "  inflating: dog_and_cat/cat.506.jpg  \n",
            "  inflating: dog_and_cat/cat.507.jpg  \n",
            "  inflating: dog_and_cat/cat.508.jpg  \n",
            "  inflating: dog_and_cat/cat.509.jpg  \n",
            "  inflating: dog_and_cat/cat.51.jpg  \n",
            "  inflating: dog_and_cat/cat.510.jpg  \n",
            "  inflating: dog_and_cat/cat.512.jpg  \n",
            "  inflating: dog_and_cat/cat.513.jpg  \n",
            "  inflating: dog_and_cat/cat.514.jpg  \n",
            "  inflating: dog_and_cat/cat.515.jpg  \n",
            "  inflating: dog_and_cat/cat.516.jpg  \n",
            "  inflating: dog_and_cat/cat.517.jpg  \n",
            "  inflating: dog_and_cat/cat.519.jpg  \n",
            "  inflating: dog_and_cat/cat.52.jpg  \n",
            "  inflating: dog_and_cat/cat.520.jpg  \n",
            "  inflating: dog_and_cat/cat.521.jpg  \n",
            "  inflating: dog_and_cat/cat.522.jpg  \n",
            "  inflating: dog_and_cat/cat.523.jpg  \n",
            "  inflating: dog_and_cat/cat.524.jpg  \n",
            "  inflating: dog_and_cat/cat.526.jpg  \n",
            "  inflating: dog_and_cat/cat.527.jpg  \n",
            "  inflating: dog_and_cat/cat.528.jpg  \n",
            "  inflating: dog_and_cat/cat.529.jpg  \n",
            "  inflating: dog_and_cat/cat.53.jpg  \n",
            "  inflating: dog_and_cat/cat.530.jpg  \n",
            "  inflating: dog_and_cat/cat.531.jpg  \n",
            "  inflating: dog_and_cat/cat.533.jpg  \n",
            "  inflating: dog_and_cat/cat.534.jpg  \n",
            "  inflating: dog_and_cat/cat.535.jpg  \n",
            "  inflating: dog_and_cat/cat.536.jpg  \n",
            "  inflating: dog_and_cat/cat.537.jpg  \n",
            "  inflating: dog_and_cat/cat.538.jpg  \n",
            "  inflating: dog_and_cat/cat.54.jpg  \n",
            "  inflating: dog_and_cat/cat.540.jpg  \n",
            "  inflating: dog_and_cat/cat.541.jpg  \n",
            "  inflating: dog_and_cat/cat.542.jpg  \n",
            "  inflating: dog_and_cat/cat.543.jpg  \n",
            "  inflating: dog_and_cat/cat.544.jpg  \n",
            "  inflating: dog_and_cat/cat.545.jpg  \n",
            "  inflating: dog_and_cat/cat.547.jpg  \n",
            "  inflating: dog_and_cat/cat.548.jpg  \n",
            "  inflating: dog_and_cat/cat.549.jpg  \n",
            "  inflating: dog_and_cat/cat.55.jpg  \n",
            "  inflating: dog_and_cat/cat.550.jpg  \n",
            "  inflating: dog_and_cat/cat.551.jpg  \n",
            "  inflating: dog_and_cat/cat.552.jpg  \n",
            "  inflating: dog_and_cat/cat.554.jpg  \n",
            "  inflating: dog_and_cat/cat.555.jpg  \n",
            "  inflating: dog_and_cat/cat.556.jpg  \n",
            "  inflating: dog_and_cat/cat.557.jpg  \n",
            "  inflating: dog_and_cat/cat.558.jpg  \n",
            "  inflating: dog_and_cat/cat.559.jpg  \n",
            "  inflating: dog_and_cat/cat.561.jpg  \n",
            "  inflating: dog_and_cat/cat.562.jpg  \n",
            "  inflating: dog_and_cat/cat.563.jpg  \n",
            "  inflating: dog_and_cat/cat.564.jpg  \n",
            "  inflating: dog_and_cat/cat.565.jpg  \n",
            "  inflating: dog_and_cat/cat.566.jpg  \n",
            "  inflating: dog_and_cat/cat.568.jpg  \n",
            "  inflating: dog_and_cat/cat.569.jpg  \n",
            "  inflating: dog_and_cat/cat.57.jpg  \n",
            "  inflating: dog_and_cat/cat.570.jpg  \n",
            "  inflating: dog_and_cat/cat.571.jpg  \n",
            "  inflating: dog_and_cat/cat.572.jpg  \n",
            "  inflating: dog_and_cat/cat.573.jpg  \n",
            "  inflating: dog_and_cat/cat.575.jpg  \n",
            "  inflating: dog_and_cat/cat.576.jpg  \n",
            "  inflating: dog_and_cat/cat.577.jpg  \n",
            "  inflating: dog_and_cat/cat.578.jpg  \n",
            "  inflating: dog_and_cat/cat.579.jpg  \n",
            "  inflating: dog_and_cat/cat.58.jpg  \n",
            "  inflating: dog_and_cat/cat.580.jpg  \n",
            "  inflating: dog_and_cat/cat.582.jpg  \n",
            "  inflating: dog_and_cat/cat.583.jpg  \n",
            "  inflating: dog_and_cat/cat.584.jpg  \n",
            "  inflating: dog_and_cat/cat.585.jpg  \n",
            "  inflating: dog_and_cat/cat.586.jpg  \n",
            "  inflating: dog_and_cat/cat.587.jpg  \n",
            "  inflating: dog_and_cat/cat.589.jpg  \n",
            "  inflating: dog_and_cat/cat.59.jpg  \n",
            "  inflating: dog_and_cat/cat.590.jpg  \n",
            "  inflating: dog_and_cat/cat.591.jpg  \n",
            "  inflating: dog_and_cat/cat.592.jpg  \n",
            "  inflating: dog_and_cat/cat.593.jpg  \n",
            "  inflating: dog_and_cat/cat.594.jpg  \n",
            "  inflating: dog_and_cat/cat.596.jpg  \n",
            "  inflating: dog_and_cat/cat.597.jpg  \n",
            "  inflating: dog_and_cat/cat.598.jpg  \n",
            "  inflating: dog_and_cat/cat.599.jpg  \n",
            "  inflating: dog_and_cat/cat.6.jpg   \n",
            "  inflating: dog_and_cat/cat.60.jpg  \n",
            "  inflating: dog_and_cat/cat.600.jpg  \n",
            "  inflating: dog_and_cat/cat.601.jpg  \n",
            "  inflating: dog_and_cat/cat.61.jpg  \n",
            "  inflating: dog_and_cat/cat.62.jpg  \n",
            "  inflating: dog_and_cat/cat.64.jpg  \n",
            "  inflating: dog_and_cat/cat.65.jpg  \n",
            "  inflating: dog_and_cat/cat.66.jpg  \n",
            "  inflating: dog_and_cat/cat.67.jpg  \n",
            "  inflating: dog_and_cat/cat.68.jpg  \n",
            "  inflating: dog_and_cat/cat.69.jpg  \n",
            "  inflating: dog_and_cat/cat.71.jpg  \n",
            "  inflating: dog_and_cat/cat.72.jpg  \n",
            "  inflating: dog_and_cat/cat.73.jpg  \n",
            "  inflating: dog_and_cat/cat.74.jpg  \n",
            "  inflating: dog_and_cat/cat.75.jpg  \n",
            "  inflating: dog_and_cat/cat.76.jpg  \n",
            "  inflating: dog_and_cat/cat.78.jpg  \n",
            "  inflating: dog_and_cat/cat.79.jpg  \n",
            "  inflating: dog_and_cat/cat.8.jpg   \n",
            "  inflating: dog_and_cat/cat.80.jpg  \n",
            "  inflating: dog_and_cat/cat.81.jpg  \n",
            "  inflating: dog_and_cat/cat.82.jpg  \n",
            "  inflating: dog_and_cat/cat.83.jpg  \n",
            "  inflating: dog_and_cat/cat.85.jpg  \n",
            "  inflating: dog_and_cat/cat.86.jpg  \n",
            "  inflating: dog_and_cat/cat.87.jpg  \n",
            "  inflating: dog_and_cat/cat.88.jpg  \n",
            "  inflating: dog_and_cat/cat.89.jpg  \n",
            "  inflating: dog_and_cat/cat.9.jpg   \n",
            "  inflating: dog_and_cat/cat.90.jpg  \n",
            "  inflating: dog_and_cat/cat.92.jpg  \n",
            "  inflating: dog_and_cat/cat.93.jpg  \n",
            "  inflating: dog_and_cat/cat.94.jpg  \n",
            "  inflating: dog_and_cat/cat.95.jpg  \n",
            "  inflating: dog_and_cat/cat.96.jpg  \n",
            "  inflating: dog_and_cat/cat.97.jpg  \n",
            "  inflating: dog_and_cat/cat.99.jpg  \n",
            "  inflating: dog_and_cat/dog.1.jpg   \n",
            "  inflating: dog_and_cat/dog.10.jpg  \n",
            "  inflating: dog_and_cat/dog.100.jpg  \n",
            "  inflating: dog_and_cat/dog.101.jpg  \n",
            "  inflating: dog_and_cat/dog.102.jpg  \n",
            "  inflating: dog_and_cat/dog.104.jpg  \n",
            "  inflating: dog_and_cat/dog.105.jpg  \n",
            "  inflating: dog_and_cat/dog.106.jpg  \n",
            "  inflating: dog_and_cat/dog.107.jpg  \n",
            "  inflating: dog_and_cat/dog.108.jpg  \n",
            "  inflating: dog_and_cat/dog.109.jpg  \n",
            "  inflating: dog_and_cat/dog.11.jpg  \n",
            "  inflating: dog_and_cat/dog.111.jpg  \n",
            "  inflating: dog_and_cat/dog.112.jpg  \n",
            "  inflating: dog_and_cat/dog.113.jpg  \n",
            "  inflating: dog_and_cat/dog.114.jpg  \n",
            "  inflating: dog_and_cat/dog.115.jpg  \n",
            "  inflating: dog_and_cat/dog.116.jpg  \n",
            "  inflating: dog_and_cat/dog.118.jpg  \n",
            "  inflating: dog_and_cat/dog.119.jpg  \n",
            "  inflating: dog_and_cat/dog.12.jpg  \n",
            "  inflating: dog_and_cat/dog.120.jpg  \n",
            "  inflating: dog_and_cat/dog.121.jpg  \n",
            "  inflating: dog_and_cat/dog.122.jpg  \n",
            "  inflating: dog_and_cat/dog.123.jpg  \n",
            "  inflating: dog_and_cat/dog.125.jpg  \n",
            "  inflating: dog_and_cat/dog.126.jpg  \n",
            "  inflating: dog_and_cat/dog.127.jpg  \n",
            "  inflating: dog_and_cat/dog.128.jpg  \n",
            "  inflating: dog_and_cat/dog.129.jpg  \n",
            "  inflating: dog_and_cat/dog.13.jpg  \n",
            "  inflating: dog_and_cat/dog.130.jpg  \n",
            "  inflating: dog_and_cat/dog.132.jpg  \n",
            "  inflating: dog_and_cat/dog.133.jpg  \n",
            "  inflating: dog_and_cat/dog.134.jpg  \n",
            "  inflating: dog_and_cat/dog.135.jpg  \n",
            "  inflating: dog_and_cat/dog.136.jpg  \n",
            "  inflating: dog_and_cat/dog.137.jpg  \n",
            "  inflating: dog_and_cat/dog.139.jpg  \n",
            "  inflating: dog_and_cat/dog.140.jpg  \n",
            "  inflating: dog_and_cat/dog.141.jpg  \n",
            "  inflating: dog_and_cat/dog.142.jpg  \n",
            "  inflating: dog_and_cat/dog.143.jpg  \n",
            "  inflating: dog_and_cat/dog.144.jpg  \n",
            "  inflating: dog_and_cat/dog.146.jpg  \n",
            "  inflating: dog_and_cat/dog.147.jpg  \n",
            "  inflating: dog_and_cat/dog.148.jpg  \n",
            "  inflating: dog_and_cat/dog.149.jpg  \n",
            "  inflating: dog_and_cat/dog.15.jpg  \n",
            "  inflating: dog_and_cat/dog.150.jpg  \n",
            "  inflating: dog_and_cat/dog.151.jpg  \n",
            "  inflating: dog_and_cat/dog.153.jpg  \n",
            "  inflating: dog_and_cat/dog.154.jpg  \n",
            "  inflating: dog_and_cat/dog.155.jpg  \n",
            "  inflating: dog_and_cat/dog.156.jpg  \n",
            "  inflating: dog_and_cat/dog.157.jpg  \n",
            "  inflating: dog_and_cat/dog.158.jpg  \n",
            "  inflating: dog_and_cat/dog.16.jpg  \n",
            "  inflating: dog_and_cat/dog.160.jpg  \n",
            "  inflating: dog_and_cat/dog.161.jpg  \n",
            "  inflating: dog_and_cat/dog.162.jpg  \n",
            "  inflating: dog_and_cat/dog.163.jpg  \n",
            "  inflating: dog_and_cat/dog.164.jpg  \n",
            "  inflating: dog_and_cat/dog.165.jpg  \n",
            "  inflating: dog_and_cat/dog.167.jpg  \n",
            "  inflating: dog_and_cat/dog.168.jpg  \n",
            "  inflating: dog_and_cat/dog.169.jpg  \n",
            "  inflating: dog_and_cat/dog.17.jpg  \n",
            "  inflating: dog_and_cat/dog.170.jpg  \n",
            "  inflating: dog_and_cat/dog.171.jpg  \n",
            "  inflating: dog_and_cat/dog.172.jpg  \n",
            "  inflating: dog_and_cat/dog.174.jpg  \n",
            "  inflating: dog_and_cat/dog.175.jpg  \n",
            "  inflating: dog_and_cat/dog.176.jpg  \n",
            "  inflating: dog_and_cat/dog.177.jpg  \n",
            "  inflating: dog_and_cat/dog.178.jpg  \n",
            "  inflating: dog_and_cat/dog.179.jpg  \n",
            "  inflating: dog_and_cat/dog.18.jpg  \n",
            "  inflating: dog_and_cat/dog.181.jpg  \n",
            "  inflating: dog_and_cat/dog.182.jpg  \n",
            "  inflating: dog_and_cat/dog.183.jpg  \n",
            "  inflating: dog_and_cat/dog.184.jpg  \n",
            "  inflating: dog_and_cat/dog.185.jpg  \n",
            "  inflating: dog_and_cat/dog.186.jpg  \n",
            "  inflating: dog_and_cat/dog.188.jpg  \n",
            "  inflating: dog_and_cat/dog.189.jpg  \n",
            "  inflating: dog_and_cat/dog.19.jpg  \n",
            "  inflating: dog_and_cat/dog.190.jpg  \n",
            "  inflating: dog_and_cat/dog.191.jpg  \n",
            "  inflating: dog_and_cat/dog.192.jpg  \n",
            "  inflating: dog_and_cat/dog.193.jpg  \n",
            "  inflating: dog_and_cat/dog.195.jpg  \n",
            "  inflating: dog_and_cat/dog.196.jpg  \n",
            "  inflating: dog_and_cat/dog.197.jpg  \n",
            "  inflating: dog_and_cat/dog.198.jpg  \n",
            "  inflating: dog_and_cat/dog.199.jpg  \n",
            "  inflating: dog_and_cat/dog.2.jpg   \n",
            "  inflating: dog_and_cat/dog.20.jpg  \n",
            "  inflating: dog_and_cat/dog.200.jpg  \n",
            "  inflating: dog_and_cat/dog.202.jpg  \n",
            "  inflating: dog_and_cat/dog.203.jpg  \n",
            "  inflating: dog_and_cat/dog.204.jpg  \n",
            "  inflating: dog_and_cat/dog.205.jpg  \n",
            "  inflating: dog_and_cat/dog.206.jpg  \n",
            "  inflating: dog_and_cat/dog.207.jpg  \n",
            "  inflating: dog_and_cat/dog.209.jpg  \n",
            "  inflating: dog_and_cat/dog.210.jpg  \n",
            "  inflating: dog_and_cat/dog.211.jpg  \n",
            "  inflating: dog_and_cat/dog.212.jpg  \n",
            "  inflating: dog_and_cat/dog.213.jpg  \n",
            "  inflating: dog_and_cat/dog.214.jpg  \n",
            "  inflating: dog_and_cat/dog.216.jpg  \n",
            "  inflating: dog_and_cat/dog.217.jpg  \n",
            "  inflating: dog_and_cat/dog.218.jpg  \n",
            "  inflating: dog_and_cat/dog.219.jpg  \n",
            "  inflating: dog_and_cat/dog.22.jpg  \n",
            "  inflating: dog_and_cat/dog.220.jpg  \n",
            "  inflating: dog_and_cat/dog.221.jpg  \n",
            "  inflating: dog_and_cat/dog.223.jpg  \n",
            "  inflating: dog_and_cat/dog.224.jpg  \n",
            "  inflating: dog_and_cat/dog.225.jpg  \n",
            "  inflating: dog_and_cat/dog.226.jpg  \n",
            "  inflating: dog_and_cat/dog.227.jpg  \n",
            "  inflating: dog_and_cat/dog.228.jpg  \n",
            "  inflating: dog_and_cat/dog.23.jpg  \n",
            "  inflating: dog_and_cat/dog.230.jpg  \n",
            "  inflating: dog_and_cat/dog.231.jpg  \n",
            "  inflating: dog_and_cat/dog.232.jpg  \n",
            "  inflating: dog_and_cat/dog.233.jpg  \n",
            "  inflating: dog_and_cat/dog.234.jpg  \n",
            "  inflating: dog_and_cat/dog.235.jpg  \n",
            "  inflating: dog_and_cat/dog.237.jpg  \n",
            "  inflating: dog_and_cat/dog.238.jpg  \n",
            "  inflating: dog_and_cat/dog.239.jpg  \n",
            "  inflating: dog_and_cat/dog.24.jpg  \n",
            "  inflating: dog_and_cat/dog.240.jpg  \n",
            "  inflating: dog_and_cat/dog.241.jpg  \n",
            "  inflating: dog_and_cat/dog.242.jpg  \n",
            "  inflating: dog_and_cat/dog.244.jpg  \n",
            "  inflating: dog_and_cat/dog.245.jpg  \n",
            "  inflating: dog_and_cat/dog.246.jpg  \n",
            "  inflating: dog_and_cat/dog.247.jpg  \n",
            "  inflating: dog_and_cat/dog.248.jpg  \n",
            "  inflating: dog_and_cat/dog.249.jpg  \n",
            "  inflating: dog_and_cat/dog.25.jpg  \n",
            "  inflating: dog_and_cat/dog.251.jpg  \n",
            "  inflating: dog_and_cat/dog.252.jpg  \n",
            "  inflating: dog_and_cat/dog.253.jpg  \n",
            "  inflating: dog_and_cat/dog.254.jpg  \n",
            "  inflating: dog_and_cat/dog.255.jpg  \n",
            "  inflating: dog_and_cat/dog.256.jpg  \n",
            "  inflating: dog_and_cat/dog.258.jpg  \n",
            "  inflating: dog_and_cat/dog.259.jpg  \n",
            "  inflating: dog_and_cat/dog.26.jpg  \n",
            "  inflating: dog_and_cat/dog.260.jpg  \n",
            "  inflating: dog_and_cat/dog.261.jpg  \n",
            "  inflating: dog_and_cat/dog.262.jpg  \n",
            "  inflating: dog_and_cat/dog.263.jpg  \n",
            "  inflating: dog_and_cat/dog.265.jpg  \n",
            "  inflating: dog_and_cat/dog.266.jpg  \n",
            "  inflating: dog_and_cat/dog.267.jpg  \n",
            "  inflating: dog_and_cat/dog.268.jpg  \n",
            "  inflating: dog_and_cat/dog.269.jpg  \n",
            "  inflating: dog_and_cat/dog.27.jpg  \n",
            "  inflating: dog_and_cat/dog.270.jpg  \n",
            "  inflating: dog_and_cat/dog.272.jpg  \n",
            "  inflating: dog_and_cat/dog.273.jpg  \n",
            "  inflating: dog_and_cat/dog.274.jpg  \n",
            "  inflating: dog_and_cat/dog.275.jpg  \n",
            "  inflating: dog_and_cat/dog.2754.jpg  \n",
            "  inflating: dog_and_cat/dog.2755.jpg  \n",
            "  inflating: dog_and_cat/dog.2756.jpg  \n",
            "  inflating: dog_and_cat/dog.2757.jpg  \n",
            "  inflating: dog_and_cat/dog.2758.jpg  \n",
            "  inflating: dog_and_cat/dog.2759.jpg  \n",
            "  inflating: dog_and_cat/dog.276.jpg  \n",
            "  inflating: dog_and_cat/dog.2760.jpg  \n",
            "  inflating: dog_and_cat/dog.2761.jpg  \n",
            "  inflating: dog_and_cat/dog.2762.jpg  \n",
            "  inflating: dog_and_cat/dog.2763.jpg  \n",
            "  inflating: dog_and_cat/dog.2764.jpg  \n",
            "  inflating: dog_and_cat/dog.2765.jpg  \n",
            "  inflating: dog_and_cat/dog.2766.jpg  \n",
            "  inflating: dog_and_cat/dog.2767.jpg  \n",
            "  inflating: dog_and_cat/dog.2768.jpg  \n",
            "  inflating: dog_and_cat/dog.2769.jpg  \n",
            "  inflating: dog_and_cat/dog.277.jpg  \n",
            "  inflating: dog_and_cat/dog.2770.jpg  \n",
            "  inflating: dog_and_cat/dog.2771.jpg  \n",
            "  inflating: dog_and_cat/dog.2772.jpg  \n",
            "  inflating: dog_and_cat/dog.2773.jpg  \n",
            "  inflating: dog_and_cat/dog.2774.jpg  \n",
            "  inflating: dog_and_cat/dog.2775.jpg  \n",
            "  inflating: dog_and_cat/dog.2776.jpg  \n",
            "  inflating: dog_and_cat/dog.2777.jpg  \n",
            "  inflating: dog_and_cat/dog.2778.jpg  \n",
            "  inflating: dog_and_cat/dog.2779.jpg  \n",
            "  inflating: dog_and_cat/dog.2780.jpg  \n",
            "  inflating: dog_and_cat/dog.2781.jpg  \n",
            "  inflating: dog_and_cat/dog.2782.jpg  \n",
            "  inflating: dog_and_cat/dog.2783.jpg  \n",
            "  inflating: dog_and_cat/dog.2784.jpg  \n",
            "  inflating: dog_and_cat/dog.2785.jpg  \n",
            "  inflating: dog_and_cat/dog.2786.jpg  \n",
            "  inflating: dog_and_cat/dog.2787.jpg  \n",
            "  inflating: dog_and_cat/dog.2788.jpg  \n",
            "  inflating: dog_and_cat/dog.2789.jpg  \n",
            "  inflating: dog_and_cat/dog.279.jpg  \n",
            "  inflating: dog_and_cat/dog.2790.jpg  \n",
            "  inflating: dog_and_cat/dog.2791.jpg  \n",
            "  inflating: dog_and_cat/dog.2792.jpg  \n",
            "  inflating: dog_and_cat/dog.2793.jpg  \n",
            "  inflating: dog_and_cat/dog.2794.jpg  \n",
            "  inflating: dog_and_cat/dog.2795.jpg  \n",
            "  inflating: dog_and_cat/dog.2796.jpg  \n",
            "  inflating: dog_and_cat/dog.2797.jpg  \n",
            "  inflating: dog_and_cat/dog.2798.jpg  \n",
            "  inflating: dog_and_cat/dog.2799.jpg  \n",
            "  inflating: dog_and_cat/dog.280.jpg  \n",
            "  inflating: dog_and_cat/dog.2800.jpg  \n",
            "  inflating: dog_and_cat/dog.2801.jpg  \n",
            "  inflating: dog_and_cat/dog.2802.jpg  \n",
            "  inflating: dog_and_cat/dog.2803.jpg  \n",
            "  inflating: dog_and_cat/dog.2804.jpg  \n",
            "  inflating: dog_and_cat/dog.2805.jpg  \n",
            "  inflating: dog_and_cat/dog.2806.jpg  \n",
            "  inflating: dog_and_cat/dog.2807.jpg  \n",
            "  inflating: dog_and_cat/dog.2808.jpg  \n",
            "  inflating: dog_and_cat/dog.2809.jpg  \n",
            "  inflating: dog_and_cat/dog.281.jpg  \n",
            "  inflating: dog_and_cat/dog.2810.jpg  \n",
            "  inflating: dog_and_cat/dog.2811.jpg  \n",
            "  inflating: dog_and_cat/dog.2812.jpg  \n",
            "  inflating: dog_and_cat/dog.2813.jpg  \n",
            "  inflating: dog_and_cat/dog.2814.jpg  \n",
            "  inflating: dog_and_cat/dog.2815.jpg  \n",
            "  inflating: dog_and_cat/dog.2816.jpg  \n",
            "  inflating: dog_and_cat/dog.2817.jpg  \n",
            "  inflating: dog_and_cat/dog.2818.jpg  \n",
            "  inflating: dog_and_cat/dog.2819.jpg  \n",
            "  inflating: dog_and_cat/dog.282.jpg  \n",
            "  inflating: dog_and_cat/dog.2820.jpg  \n",
            "  inflating: dog_and_cat/dog.2821.jpg  \n",
            "  inflating: dog_and_cat/dog.2822.jpg  \n",
            "  inflating: dog_and_cat/dog.2823.jpg  \n",
            "  inflating: dog_and_cat/dog.2824.jpg  \n",
            "  inflating: dog_and_cat/dog.2825.jpg  \n",
            "  inflating: dog_and_cat/dog.2826.jpg  \n",
            "  inflating: dog_and_cat/dog.283.jpg  \n",
            "  inflating: dog_and_cat/dog.284.jpg  \n",
            "  inflating: dog_and_cat/dog.286.jpg  \n",
            "  inflating: dog_and_cat/dog.287.jpg  \n",
            "  inflating: dog_and_cat/dog.288.jpg  \n",
            "  inflating: dog_and_cat/dog.289.jpg  \n",
            "  inflating: dog_and_cat/dog.29.jpg  \n",
            "  inflating: dog_and_cat/dog.290.jpg  \n",
            "  inflating: dog_and_cat/dog.291.jpg  \n",
            "  inflating: dog_and_cat/dog.293.jpg  \n",
            "  inflating: dog_and_cat/dog.294.jpg  \n",
            "  inflating: dog_and_cat/dog.295.jpg  \n",
            "  inflating: dog_and_cat/dog.296.jpg  \n",
            "  inflating: dog_and_cat/dog.297.jpg  \n",
            "  inflating: dog_and_cat/dog.298.jpg  \n",
            "  inflating: dog_and_cat/dog.3.jpg   \n",
            "  inflating: dog_and_cat/dog.30.jpg  \n",
            "  inflating: dog_and_cat/dog.300.jpg  \n",
            "  inflating: dog_and_cat/dog.301.jpg  \n",
            "  inflating: dog_and_cat/dog.302.jpg  \n",
            "  inflating: dog_and_cat/dog.303.jpg  \n",
            "  inflating: dog_and_cat/dog.304.jpg  \n",
            "  inflating: dog_and_cat/dog.305.jpg  \n",
            "  inflating: dog_and_cat/dog.307.jpg  \n",
            "  inflating: dog_and_cat/dog.308.jpg  \n",
            "  inflating: dog_and_cat/dog.309.jpg  \n",
            "  inflating: dog_and_cat/dog.31.jpg  \n",
            "  inflating: dog_and_cat/dog.310.jpg  \n",
            "  inflating: dog_and_cat/dog.311.jpg  \n",
            "  inflating: dog_and_cat/dog.312.jpg  \n",
            "  inflating: dog_and_cat/dog.314.jpg  \n",
            "  inflating: dog_and_cat/dog.315.jpg  \n",
            "  inflating: dog_and_cat/dog.316.jpg  \n",
            "  inflating: dog_and_cat/dog.317.jpg  \n",
            "  inflating: dog_and_cat/dog.318.jpg  \n",
            "  inflating: dog_and_cat/dog.319.jpg  \n",
            "  inflating: dog_and_cat/dog.32.jpg  \n",
            "  inflating: dog_and_cat/dog.321.jpg  \n",
            "  inflating: dog_and_cat/dog.322.jpg  \n",
            "  inflating: dog_and_cat/dog.323.jpg  \n",
            "  inflating: dog_and_cat/dog.324.jpg  \n",
            "  inflating: dog_and_cat/dog.325.jpg  \n",
            "  inflating: dog_and_cat/dog.326.jpg  \n",
            "  inflating: dog_and_cat/dog.328.jpg  \n",
            "  inflating: dog_and_cat/dog.329.jpg  \n",
            "  inflating: dog_and_cat/dog.33.jpg  \n",
            "  inflating: dog_and_cat/dog.330.jpg  \n",
            "  inflating: dog_and_cat/dog.331.jpg  \n",
            "  inflating: dog_and_cat/dog.332.jpg  \n",
            "  inflating: dog_and_cat/dog.333.jpg  \n",
            "  inflating: dog_and_cat/dog.335.jpg  \n",
            "  inflating: dog_and_cat/dog.336.jpg  \n",
            "  inflating: dog_and_cat/dog.337.jpg  \n",
            "  inflating: dog_and_cat/dog.338.jpg  \n",
            "  inflating: dog_and_cat/dog.339.jpg  \n",
            "  inflating: dog_and_cat/dog.34.jpg  \n",
            "  inflating: dog_and_cat/dog.340.jpg  \n",
            "  inflating: dog_and_cat/dog.342.jpg  \n",
            "  inflating: dog_and_cat/dog.343.jpg  \n",
            "  inflating: dog_and_cat/dog.344.jpg  \n",
            "  inflating: dog_and_cat/dog.345.jpg  \n",
            "  inflating: dog_and_cat/dog.346.jpg  \n",
            "  inflating: dog_and_cat/dog.347.jpg  \n",
            "  inflating: dog_and_cat/dog.349.jpg  \n",
            "  inflating: dog_and_cat/dog.350.jpg  \n",
            "  inflating: dog_and_cat/dog.351.jpg  \n",
            "  inflating: dog_and_cat/dog.352.jpg  \n",
            "  inflating: dog_and_cat/dog.353.jpg  \n",
            "  inflating: dog_and_cat/dog.354.jpg  \n",
            "  inflating: dog_and_cat/dog.356.jpg  \n",
            "  inflating: dog_and_cat/dog.357.jpg  \n",
            "  inflating: dog_and_cat/dog.358.jpg  \n",
            "  inflating: dog_and_cat/dog.359.jpg  \n",
            "  inflating: dog_and_cat/dog.36.jpg  \n",
            "  inflating: dog_and_cat/dog.360.jpg  \n",
            "  inflating: dog_and_cat/dog.361.jpg  \n",
            "  inflating: dog_and_cat/dog.363.jpg  \n",
            "  inflating: dog_and_cat/dog.364.jpg  \n",
            "  inflating: dog_and_cat/dog.365.jpg  \n",
            "  inflating: dog_and_cat/dog.366.jpg  \n",
            "  inflating: dog_and_cat/dog.367.jpg  \n",
            "  inflating: dog_and_cat/dog.368.jpg  \n",
            "  inflating: dog_and_cat/dog.37.jpg  \n",
            "  inflating: dog_and_cat/dog.370.jpg  \n",
            "  inflating: dog_and_cat/dog.371.jpg  \n",
            "  inflating: dog_and_cat/dog.372.jpg  \n",
            "  inflating: dog_and_cat/dog.373.jpg  \n",
            "  inflating: dog_and_cat/dog.374.jpg  \n",
            "  inflating: dog_and_cat/dog.375.jpg  \n",
            "  inflating: dog_and_cat/dog.377.jpg  \n",
            "  inflating: dog_and_cat/dog.378.jpg  \n",
            "  inflating: dog_and_cat/dog.379.jpg  \n",
            "  inflating: dog_and_cat/dog.38.jpg  \n",
            "  inflating: dog_and_cat/dog.380.jpg  \n",
            "  inflating: dog_and_cat/dog.381.jpg  \n",
            "  inflating: dog_and_cat/dog.382.jpg  \n",
            "  inflating: dog_and_cat/dog.384.jpg  \n",
            "  inflating: dog_and_cat/dog.385.jpg  \n",
            "  inflating: dog_and_cat/dog.386.jpg  \n",
            "  inflating: dog_and_cat/dog.387.jpg  \n",
            "  inflating: dog_and_cat/dog.388.jpg  \n",
            "  inflating: dog_and_cat/dog.389.jpg  \n",
            "  inflating: dog_and_cat/dog.39.jpg  \n",
            "  inflating: dog_and_cat/dog.391.jpg  \n",
            "  inflating: dog_and_cat/dog.392.jpg  \n",
            "  inflating: dog_and_cat/dog.393.jpg  \n",
            "  inflating: dog_and_cat/dog.394.jpg  \n",
            "  inflating: dog_and_cat/dog.395.jpg  \n",
            "  inflating: dog_and_cat/dog.396.jpg  \n",
            "  inflating: dog_and_cat/dog.398.jpg  \n",
            "  inflating: dog_and_cat/dog.399.jpg  \n",
            "  inflating: dog_and_cat/dog.4.jpg   \n",
            "  inflating: dog_and_cat/dog.40.jpg  \n",
            "  inflating: dog_and_cat/dog.400.jpg  \n",
            "  inflating: dog_and_cat/dog.401.jpg  \n",
            "  inflating: dog_and_cat/dog.402.jpg  \n",
            "  inflating: dog_and_cat/dog.403.jpg  \n",
            "  inflating: dog_and_cat/dog.405.jpg  \n",
            "  inflating: dog_and_cat/dog.406.jpg  \n",
            "  inflating: dog_and_cat/dog.407.jpg  \n",
            "  inflating: dog_and_cat/dog.408.jpg  \n",
            "  inflating: dog_and_cat/dog.409.jpg  \n",
            "  inflating: dog_and_cat/dog.41.jpg  \n",
            "  inflating: dog_and_cat/dog.410.jpg  \n",
            "  inflating: dog_and_cat/dog.412.jpg  \n",
            "  inflating: dog_and_cat/dog.413.jpg  \n",
            "  inflating: dog_and_cat/dog.414.jpg  \n",
            "  inflating: dog_and_cat/dog.415.jpg  \n",
            "  inflating: dog_and_cat/dog.416.jpg  \n",
            "  inflating: dog_and_cat/dog.417.jpg  \n",
            "  inflating: dog_and_cat/dog.419.jpg  \n",
            "  inflating: dog_and_cat/dog.420.jpg  \n",
            "  inflating: dog_and_cat/dog.421.jpg  \n",
            "  inflating: dog_and_cat/dog.422.jpg  \n",
            "  inflating: dog_and_cat/dog.423.jpg  \n",
            "  inflating: dog_and_cat/dog.424.jpg  \n",
            "  inflating: dog_and_cat/dog.426.jpg  \n",
            "  inflating: dog_and_cat/dog.427.jpg  \n",
            "  inflating: dog_and_cat/dog.428.jpg  \n",
            "  inflating: dog_and_cat/dog.429.jpg  \n",
            "  inflating: dog_and_cat/dog.43.jpg  \n",
            "  inflating: dog_and_cat/dog.430.jpg  \n",
            "  inflating: dog_and_cat/dog.431.jpg  \n",
            "  inflating: dog_and_cat/dog.433.jpg  \n",
            "  inflating: dog_and_cat/dog.434.jpg  \n",
            "  inflating: dog_and_cat/dog.435.jpg  \n",
            "  inflating: dog_and_cat/dog.436.jpg  \n",
            "  inflating: dog_and_cat/dog.437.jpg  \n",
            "  inflating: dog_and_cat/dog.438.jpg  \n",
            "  inflating: dog_and_cat/dog.44.jpg  \n",
            "  inflating: dog_and_cat/dog.440.jpg  \n",
            "  inflating: dog_and_cat/dog.441.jpg  \n",
            "  inflating: dog_and_cat/dog.442.jpg  \n",
            "  inflating: dog_and_cat/dog.443.jpg  \n",
            "  inflating: dog_and_cat/dog.444.jpg  \n",
            "  inflating: dog_and_cat/dog.445.jpg  \n",
            "  inflating: dog_and_cat/dog.447.jpg  \n",
            "  inflating: dog_and_cat/dog.448.jpg  \n",
            "  inflating: dog_and_cat/dog.449.jpg  \n",
            "  inflating: dog_and_cat/dog.45.jpg  \n",
            "  inflating: dog_and_cat/dog.450.jpg  \n",
            "  inflating: dog_and_cat/dog.451.jpg  \n",
            "  inflating: dog_and_cat/dog.452.jpg  \n",
            "  inflating: dog_and_cat/dog.454.jpg  \n",
            "  inflating: dog_and_cat/dog.455.jpg  \n",
            "  inflating: dog_and_cat/dog.456.jpg  \n",
            "  inflating: dog_and_cat/dog.457.jpg  \n",
            "  inflating: dog_and_cat/dog.458.jpg  \n",
            "  inflating: dog_and_cat/dog.459.jpg  \n",
            "  inflating: dog_and_cat/dog.46.jpg  \n",
            "  inflating: dog_and_cat/dog.461.jpg  \n",
            "  inflating: dog_and_cat/dog.462.jpg  \n",
            "  inflating: dog_and_cat/dog.463.jpg  \n",
            "  inflating: dog_and_cat/dog.464.jpg  \n",
            "  inflating: dog_and_cat/dog.465.jpg  \n",
            "  inflating: dog_and_cat/dog.466.jpg  \n",
            "  inflating: dog_and_cat/dog.468.jpg  \n",
            "  inflating: dog_and_cat/dog.469.jpg  \n",
            "  inflating: dog_and_cat/dog.47.jpg  \n",
            "  inflating: dog_and_cat/dog.470.jpg  \n",
            "  inflating: dog_and_cat/dog.471.jpg  \n",
            "  inflating: dog_and_cat/dog.472.jpg  \n",
            "  inflating: dog_and_cat/dog.473.jpg  \n",
            "  inflating: dog_and_cat/dog.475.jpg  \n",
            "  inflating: dog_and_cat/dog.476.jpg  \n",
            "  inflating: dog_and_cat/dog.477.jpg  \n",
            "  inflating: dog_and_cat/dog.478.jpg  \n",
            "  inflating: dog_and_cat/dog.479.jpg  \n",
            "  inflating: dog_and_cat/dog.48.jpg  \n",
            "  inflating: dog_and_cat/dog.480.jpg  \n",
            "  inflating: dog_and_cat/dog.482.jpg  \n",
            "  inflating: dog_and_cat/dog.483.jpg  \n",
            "  inflating: dog_and_cat/dog.484.jpg  \n",
            "  inflating: dog_and_cat/dog.485.jpg  \n",
            "  inflating: dog_and_cat/dog.486.jpg  \n",
            "  inflating: dog_and_cat/dog.487.jpg  \n",
            "  inflating: dog_and_cat/dog.489.jpg  \n",
            "  inflating: dog_and_cat/dog.490.jpg  \n",
            "  inflating: dog_and_cat/dog.491.jpg  \n",
            "  inflating: dog_and_cat/dog.492.jpg  \n",
            "  inflating: dog_and_cat/dog.493.jpg  \n",
            "  inflating: dog_and_cat/dog.494.jpg  \n",
            "  inflating: dog_and_cat/dog.496.jpg  \n",
            "  inflating: dog_and_cat/dog.497.jpg  \n",
            "  inflating: dog_and_cat/dog.498.jpg  \n",
            "  inflating: dog_and_cat/dog.499.jpg  \n",
            "  inflating: dog_and_cat/dog.5.jpg   \n",
            "  inflating: dog_and_cat/dog.50.jpg  \n",
            "  inflating: dog_and_cat/dog.500.jpg  \n",
            "  inflating: dog_and_cat/dog.501.jpg  \n",
            "  inflating: dog_and_cat/dog.503.jpg  \n",
            "  inflating: dog_and_cat/dog.504.jpg  \n",
            "  inflating: dog_and_cat/dog.505.jpg  \n",
            "  inflating: dog_and_cat/dog.506.jpg  \n",
            "  inflating: dog_and_cat/dog.507.jpg  \n",
            "  inflating: dog_and_cat/dog.508.jpg  \n",
            "  inflating: dog_and_cat/dog.51.jpg  \n",
            "  inflating: dog_and_cat/dog.510.jpg  \n",
            "  inflating: dog_and_cat/dog.511.jpg  \n",
            "  inflating: dog_and_cat/dog.512.jpg  \n",
            "  inflating: dog_and_cat/dog.513.jpg  \n",
            "  inflating: dog_and_cat/dog.514.jpg  \n",
            "  inflating: dog_and_cat/dog.515.jpg  \n",
            "  inflating: dog_and_cat/dog.52.jpg  \n",
            "  inflating: dog_and_cat/dog.53.jpg  \n",
            "  inflating: dog_and_cat/dog.54.jpg  \n",
            "  inflating: dog_and_cat/dog.55.jpg  \n",
            "  inflating: dog_and_cat/dog.57.jpg  \n",
            "  inflating: dog_and_cat/dog.58.jpg  \n",
            "  inflating: dog_and_cat/dog.59.jpg  \n",
            "  inflating: dog_and_cat/dog.6.jpg   \n",
            "  inflating: dog_and_cat/dog.60.jpg  \n",
            "  inflating: dog_and_cat/dog.61.jpg  \n",
            "  inflating: dog_and_cat/dog.62.jpg  \n",
            "  inflating: dog_and_cat/dog.64.jpg  \n",
            "  inflating: dog_and_cat/dog.65.jpg  \n",
            "  inflating: dog_and_cat/dog.66.jpg  \n",
            "  inflating: dog_and_cat/dog.67.jpg  \n",
            "  inflating: dog_and_cat/dog.68.jpg  \n",
            "  inflating: dog_and_cat/dog.69.jpg  \n",
            "  inflating: dog_and_cat/dog.71.jpg  \n",
            "  inflating: dog_and_cat/dog.72.jpg  \n",
            "  inflating: dog_and_cat/dog.73.jpg  \n",
            "  inflating: dog_and_cat/dog.74.jpg  \n",
            "  inflating: dog_and_cat/dog.75.jpg  \n",
            "  inflating: dog_and_cat/dog.76.jpg  \n",
            "  inflating: dog_and_cat/dog.78.jpg  \n",
            "  inflating: dog_and_cat/dog.79.jpg  \n",
            "  inflating: dog_and_cat/dog.8.jpg   \n",
            "  inflating: dog_and_cat/dog.80.jpg  \n",
            "  inflating: dog_and_cat/dog.81.jpg  \n",
            "  inflating: dog_and_cat/dog.82.jpg  \n",
            "  inflating: dog_and_cat/dog.83.jpg  \n",
            "  inflating: dog_and_cat/dog.84(1).jpg  \n",
            "  inflating: dog_and_cat/dog.85.jpg  \n",
            "  inflating: dog_and_cat/dog.86.jpg  \n",
            "  inflating: dog_and_cat/dog.87.jpg  \n",
            "  inflating: dog_and_cat/dog.88.jpg  \n",
            "  inflating: dog_and_cat/dog.89.jpg  \n",
            "  inflating: dog_and_cat/dog.9.jpg   \n",
            "  inflating: dog_and_cat/dog.90(1).jpg  \n",
            "  inflating: dog_and_cat/dog.91.jpg  \n",
            "  inflating: dog_and_cat/dog.92.jpg  \n",
            "  inflating: dog_and_cat/dog.93.jpg  \n",
            "  inflating: dog_and_cat/dog.94.jpg  \n",
            "  inflating: dog_and_cat/dog.95.jpg  \n",
            "  inflating: dog_and_cat/dog.97.jpg  \n",
            "  inflating: dog_and_cat/dog.98.jpg  \n",
            "  inflating: dog_and_cat/dog.99.jpg  \n"
          ]
        }
      ],
      "source": [
        "# path='/content/gdrive/MyDrive/dog_and_cat.zip'\n",
        "!unzip /content/gdrive/MyDrive/dog_and_cat.zip"
      ]
    },
    {
      "cell_type": "code",
      "execution_count": 5,
      "metadata": {
        "id": "fRPa4vCn8p-0"
      },
      "outputs": [],
      "source": [
        "os.rename('dog_and_cat', 'dataset')"
      ]
    },
    {
      "cell_type": "code",
      "execution_count": 6,
      "metadata": {
        "id": "GxWvTrXD68xz"
      },
      "outputs": [],
      "source": [
        "from sklearn.utils import shuffle\n",
        "import random\n",
        "filenames = os.listdir('/content/dataset')\n",
        "categories = []\n",
        "for filename in filenames:\n",
        "    category = filename.split('.')[0]\n",
        "    if category == 'dog':\n",
        "        categories.append(\"dog\")\n",
        "    else:\n",
        "        categories.append(\"cat\")\n",
        "    \n",
        "df = pd.DataFrame({\n",
        "    'filename': filenames,\n",
        "    'category': categories\n",
        "})\n"
      ]
    },
    {
      "cell_type": "code",
      "execution_count": 7,
      "metadata": {
        "colab": {
          "base_uri": "https://localhost:8080/",
          "height": 206
        },
        "id": "oULucG-GgNju",
        "outputId": "ebd7d5e4-98c4-4c7d-d643-d7089a0e8838"
      },
      "outputs": [
        {
          "output_type": "execute_result",
          "data": {
            "text/plain": [
              "       filename category\n",
              "0  dog.2767.jpg      dog\n",
              "1   cat.146.jpg      cat\n",
              "2   cat.446.jpg      cat\n",
              "3    cat.93.jpg      cat\n",
              "4   dog.370.jpg      dog"
            ],
            "text/html": [
              "\n",
              "  <div id=\"df-e55c7904-d706-43f6-8504-88bdeb5b4903\">\n",
              "    <div class=\"colab-df-container\">\n",
              "      <div>\n",
              "<style scoped>\n",
              "    .dataframe tbody tr th:only-of-type {\n",
              "        vertical-align: middle;\n",
              "    }\n",
              "\n",
              "    .dataframe tbody tr th {\n",
              "        vertical-align: top;\n",
              "    }\n",
              "\n",
              "    .dataframe thead th {\n",
              "        text-align: right;\n",
              "    }\n",
              "</style>\n",
              "<table border=\"1\" class=\"dataframe\">\n",
              "  <thead>\n",
              "    <tr style=\"text-align: right;\">\n",
              "      <th></th>\n",
              "      <th>filename</th>\n",
              "      <th>category</th>\n",
              "    </tr>\n",
              "  </thead>\n",
              "  <tbody>\n",
              "    <tr>\n",
              "      <th>0</th>\n",
              "      <td>dog.2767.jpg</td>\n",
              "      <td>dog</td>\n",
              "    </tr>\n",
              "    <tr>\n",
              "      <th>1</th>\n",
              "      <td>cat.146.jpg</td>\n",
              "      <td>cat</td>\n",
              "    </tr>\n",
              "    <tr>\n",
              "      <th>2</th>\n",
              "      <td>cat.446.jpg</td>\n",
              "      <td>cat</td>\n",
              "    </tr>\n",
              "    <tr>\n",
              "      <th>3</th>\n",
              "      <td>cat.93.jpg</td>\n",
              "      <td>cat</td>\n",
              "    </tr>\n",
              "    <tr>\n",
              "      <th>4</th>\n",
              "      <td>dog.370.jpg</td>\n",
              "      <td>dog</td>\n",
              "    </tr>\n",
              "  </tbody>\n",
              "</table>\n",
              "</div>\n",
              "      <button class=\"colab-df-convert\" onclick=\"convertToInteractive('df-e55c7904-d706-43f6-8504-88bdeb5b4903')\"\n",
              "              title=\"Convert this dataframe to an interactive table.\"\n",
              "              style=\"display:none;\">\n",
              "        \n",
              "  <svg xmlns=\"http://www.w3.org/2000/svg\" height=\"24px\"viewBox=\"0 0 24 24\"\n",
              "       width=\"24px\">\n",
              "    <path d=\"M0 0h24v24H0V0z\" fill=\"none\"/>\n",
              "    <path d=\"M18.56 5.44l.94 2.06.94-2.06 2.06-.94-2.06-.94-.94-2.06-.94 2.06-2.06.94zm-11 1L8.5 8.5l.94-2.06 2.06-.94-2.06-.94L8.5 2.5l-.94 2.06-2.06.94zm10 10l.94 2.06.94-2.06 2.06-.94-2.06-.94-.94-2.06-.94 2.06-2.06.94z\"/><path d=\"M17.41 7.96l-1.37-1.37c-.4-.4-.92-.59-1.43-.59-.52 0-1.04.2-1.43.59L10.3 9.45l-7.72 7.72c-.78.78-.78 2.05 0 2.83L4 21.41c.39.39.9.59 1.41.59.51 0 1.02-.2 1.41-.59l7.78-7.78 2.81-2.81c.8-.78.8-2.07 0-2.86zM5.41 20L4 18.59l7.72-7.72 1.47 1.35L5.41 20z\"/>\n",
              "  </svg>\n",
              "      </button>\n",
              "      \n",
              "  <style>\n",
              "    .colab-df-container {\n",
              "      display:flex;\n",
              "      flex-wrap:wrap;\n",
              "      gap: 12px;\n",
              "    }\n",
              "\n",
              "    .colab-df-convert {\n",
              "      background-color: #E8F0FE;\n",
              "      border: none;\n",
              "      border-radius: 50%;\n",
              "      cursor: pointer;\n",
              "      display: none;\n",
              "      fill: #1967D2;\n",
              "      height: 32px;\n",
              "      padding: 0 0 0 0;\n",
              "      width: 32px;\n",
              "    }\n",
              "\n",
              "    .colab-df-convert:hover {\n",
              "      background-color: #E2EBFA;\n",
              "      box-shadow: 0px 1px 2px rgba(60, 64, 67, 0.3), 0px 1px 3px 1px rgba(60, 64, 67, 0.15);\n",
              "      fill: #174EA6;\n",
              "    }\n",
              "\n",
              "    [theme=dark] .colab-df-convert {\n",
              "      background-color: #3B4455;\n",
              "      fill: #D2E3FC;\n",
              "    }\n",
              "\n",
              "    [theme=dark] .colab-df-convert:hover {\n",
              "      background-color: #434B5C;\n",
              "      box-shadow: 0px 1px 3px 1px rgba(0, 0, 0, 0.15);\n",
              "      filter: drop-shadow(0px 1px 2px rgba(0, 0, 0, 0.3));\n",
              "      fill: #FFFFFF;\n",
              "    }\n",
              "  </style>\n",
              "\n",
              "      <script>\n",
              "        const buttonEl =\n",
              "          document.querySelector('#df-e55c7904-d706-43f6-8504-88bdeb5b4903 button.colab-df-convert');\n",
              "        buttonEl.style.display =\n",
              "          google.colab.kernel.accessAllowed ? 'block' : 'none';\n",
              "\n",
              "        async function convertToInteractive(key) {\n",
              "          const element = document.querySelector('#df-e55c7904-d706-43f6-8504-88bdeb5b4903');\n",
              "          const dataTable =\n",
              "            await google.colab.kernel.invokeFunction('convertToInteractive',\n",
              "                                                     [key], {});\n",
              "          if (!dataTable) return;\n",
              "\n",
              "          const docLinkHtml = 'Like what you see? Visit the ' +\n",
              "            '<a target=\"_blank\" href=https://colab.research.google.com/notebooks/data_table.ipynb>data table notebook</a>'\n",
              "            + ' to learn more about interactive tables.';\n",
              "          element.innerHTML = '';\n",
              "          dataTable['output_type'] = 'display_data';\n",
              "          await google.colab.output.renderOutput(dataTable, element);\n",
              "          const docLink = document.createElement('div');\n",
              "          docLink.innerHTML = docLinkHtml;\n",
              "          element.appendChild(docLink);\n",
              "        }\n",
              "      </script>\n",
              "    </div>\n",
              "  </div>\n",
              "  "
            ]
          },
          "metadata": {},
          "execution_count": 7
        }
      ],
      "source": [
        "df.head()"
      ]
    },
    {
      "cell_type": "code",
      "execution_count": 8,
      "metadata": {
        "id": "HI3Z7xRoYtV2"
      },
      "outputs": [],
      "source": [
        "#!mkdir data\n"
      ]
    },
    {
      "cell_type": "code",
      "execution_count": 9,
      "metadata": {
        "id": "1WbDq1s4ZAD0"
      },
      "outputs": [],
      "source": [
        "#!mkdir data/cats\n",
        "#!mkdir data/dogs"
      ]
    },
    {
      "cell_type": "code",
      "execution_count": 10,
      "metadata": {
        "colab": {
          "base_uri": "https://localhost:8080/"
        },
        "id": "W1r1G9FMYOBF",
        "outputId": "c0375943-69ce-42d3-aa91-e0775e6c0a1e"
      },
      "outputs": [
        {
          "output_type": "execute_result",
          "data": {
            "text/plain": [
              "1033"
            ]
          },
          "metadata": {},
          "execution_count": 10
        }
      ],
      "source": [
        "import shutil\n",
        "len(filenames)"
      ]
    },
    {
      "cell_type": "code",
      "execution_count": 11,
      "metadata": {
        "colab": {
          "base_uri": "https://localhost:8080/"
        },
        "id": "OIP7OirS62RM",
        "outputId": "61ef4f56-dbb1-49b4-e3ff-3b2bd3c6ea6d"
      },
      "outputs": [
        {
          "output_type": "stream",
          "name": "stdout",
          "text": [
            "['dog.2767.jpg', 'cat.146.jpg', 'cat.446.jpg', 'cat.93.jpg', 'dog.370.jpg', 'dog.387.jpg', 'cat.477.jpg', 'cat.229.jpg', 'cat.316.jpg', 'dog.2760.jpg', 'dog.395.jpg', 'cat.206.jpg', 'dog.436.jpg', 'dog.106.jpg', 'cat.577.jpg', 'dog.438.jpg', 'cat.226.jpg', 'dog.2761.jpg', 'cat.337.jpg', 'cat.309.jpg', 'dog.469.jpg', 'cat.260.jpg', 'cat.485.jpg', 'cat.136.jpg', 'cat.211.jpg', 'dog.409.jpg', 'cat.418.jpg', 'cat.74.jpg', 'dog.80.jpg', 'cat.242.jpg', 'dog.52.jpg', 'dog.269.jpg', 'cat.479.jpg', 'dog.434.jpg', 'dog.147.jpg', 'dog.413.jpg', 'dog.420.jpg', 'dog.247.jpg', 'cat.269.jpg', 'dog.2758.jpg', 'dog.25.jpg', 'cat.18.jpg', 'dog.270.jpg', 'cat.185.jpg', 'dog.280.jpg', 'cat.430.jpg', 'dog.2776.jpg', 'cat.349.jpg', 'cat.552.jpg', 'cat.202.jpg', 'cat.386.jpg', 'dog.81.jpg', 'dog.151.jpg', 'cat.580.jpg', 'dog.18.jpg', 'cat.303.jpg', 'dog.2792.jpg', 'dog.273.jpg', 'dog.514.jpg', 'cat.306.jpg', 'cat.251.jpg', 'dog.492.jpg', 'cat.466.jpg', 'dog.205.jpg', 'cat.50.jpg', 'cat.367.jpg', 'dog.296.jpg', 'dog.13.jpg', 'dog.235.jpg', 'dog.90(1).jpg', 'dog.298.jpg', 'dog.230.jpg', 'dog.204.jpg', 'cat.307.jpg', 'cat.117.jpg', 'cat.573.jpg', 'dog.344.jpg', 'dog.349.jpg', 'cat.271.jpg', 'dog.288.jpg', 'dog.428.jpg', 'dog.427.jpg', 'cat.529.jpg', 'dog.322.jpg', 'cat.414.jpg', 'dog.339.jpg', 'dog.468.jpg', 'cat.501.jpg', 'cat.444.jpg', 'cat.493.jpg', 'dog.19.jpg', 'cat.164.jpg', 'cat.255.jpg', 'dog.197.jpg', 'dog.76.jpg', 'dog.435.jpg', 'dog.478.jpg', 'dog.251.jpg', 'cat.109.jpg', 'cat.92.jpg', 'cat.391.jpg', 'dog.43.jpg', 'cat.8.jpg', 'cat.330.jpg', 'cat.512.jpg', 'dog.402.jpg', 'cat.23.jpg', 'dog.305.jpg', 'dog.84(1).jpg', 'cat.482.jpg', 'dog.30.jpg', 'cat.417.jpg', 'dog.480.jpg', 'dog.211.jpg', 'cat.561.jpg', 'dog.54.jpg', 'cat.522.jpg', 'dog.123.jpg', 'cat.579.jpg', 'dog.417.jpg', 'cat.596.jpg', 'cat.352.jpg', 'cat.354.jpg', 'cat.299.jpg', 'cat.334.jpg', 'cat.262.jpg', 'cat.597.jpg', 'dog.126.jpg', 'cat.241.jpg', 'dog.410.jpg', 'cat.491.jpg', 'dog.62.jpg', 'cat.314.jpg', 'cat.197.jpg', 'cat.310.jpg', 'cat.296.jpg', 'cat.319.jpg', 'dog.118.jpg', 'dog.2782.jpg', 'dog.424.jpg', 'dog.513.jpg', 'cat.144.jpg', 'cat.311.jpg', 'cat.66.jpg', 'dog.218.jpg', 'dog.141.jpg', 'cat.103.jpg', 'dog.107.jpg', 'dog.163.jpg', 'dog.2754.jpg', 'dog.384.jpg', 'cat.454.jpg', 'cat.243.jpg', 'dog.175.jpg', 'dog.2779.jpg', 'cat.45.jpg', 'cat.94.jpg', 'dog.121.jpg', 'dog.20.jpg', 'cat.535.jpg', 'cat.60.jpg', 'cat.344.jpg', 'cat.583.jpg', 'dog.2799.jpg', 'dog.304.jpg', 'cat.484.jpg', 'cat.188.jpg', 'dog.295.jpg', 'dog.134.jpg', 'dog.360.jpg', 'dog.354.jpg', 'cat.355.jpg', 'cat.96.jpg', 'dog.193.jpg', 'cat.120.jpg', 'cat.234.jpg', 'cat.388.jpg', 'cat.134.jpg', 'dog.2823.jpg', 'cat.179.jpg', 'dog.172.jpg', 'cat.31.jpg', 'dog.493.jpg', 'cat.571.jpg', 'cat.601.jpg', 'cat.473.jpg', 'dog.10.jpg', 'dog.2803.jpg', 'cat.297.jpg', 'dog.512.jpg', 'cat.24.jpg', 'dog.484.jpg', 'dog.500.jpg', 'cat.135.jpg', 'dog.148.jpg', 'dog.279.jpg', 'dog.2796.jpg', 'dog.2800.jpg', 'dog.221.jpg', 'dog.316.jpg', 'dog.364.jpg', 'cat.127.jpg', 'dog.104.jpg', 'cat.425.jpg', 'dog.2795.jpg', 'dog.129.jpg', 'cat.524.jpg', 'cat.428.jpg', 'dog.505.jpg', 'cat.111.jpg', 'dog.232.jpg', 'cat.341.jpg', 'cat.368.jpg', 'dog.246.jpg', 'dog.72.jpg', 'dog.207.jpg', 'cat.600.jpg', 'cat.331.jpg', 'dog.287.jpg', 'dog.2791.jpg', 'cat.436.jpg', 'cat.79.jpg', 'cat.268.jpg', 'cat.508.jpg', 'dog.164.jpg', 'cat.290.jpg', 'dog.2762.jpg', 'dog.2811.jpg', 'dog.111.jpg', 'dog.83.jpg', 'dog.2819.jpg', 'dog.209.jpg', 'dog.191.jpg', 'cat.258.jpg', 'cat.421.jpg', 'cat.194.jpg', 'dog.497.jpg', 'dog.367.jpg', 'cat.200.jpg', 'cat.174.jpg', 'cat.433.jpg', 'dog.242.jpg', 'dog.447.jpg', 'dog.277.jpg', 'cat.233.jpg', 'cat.348.jpg', 'cat.52.jpg', 'dog.248.jpg', 'dog.75.jpg', 'cat.5.jpg', 'cat.416.jpg', 'dog.485.jpg', 'cat.125.jpg', 'dog.414.jpg', 'dog.2784.jpg', 'cat.26.jpg', 'dog.67.jpg', 'cat.54.jpg', 'cat.419.jpg', 'dog.265.jpg', 'cat.537.jpg', 'dog.253.jpg', 'dog.328.jpg', 'cat.359.jpg', 'dog.214.jpg', 'dog.184.jpg', 'dog.461.jpg', 'cat.558.jpg', 'cat.215.jpg', 'cat.551.jpg', 'cat.232.jpg', 'dog.39.jpg', 'dog.113.jpg', 'dog.392.jpg', 'dog.422.jpg', 'dog.170.jpg', 'dog.315.jpg', 'cat.405.jpg', 'dog.2774.jpg', 'dog.463.jpg', 'cat.53.jpg', 'dog.217.jpg', 'cat.170.jpg', 'dog.352.jpg', 'dog.91.jpg', 'dog.357.jpg', 'dog.98.jpg', 'cat.373.jpg', 'dog.386.jpg', 'dog.200.jpg', 'cat.20.jpg', 'cat.3.jpg', 'cat.192.jpg', 'cat.591.jpg', 'cat.32.jpg', 'dog.475.jpg', 'dog.2808.jpg', 'cat.190.jpg', 'dog.97.jpg', 'cat.460.jpg', 'dog.483.jpg', 'dog.2783.jpg', 'dog.224.jpg', 'dog.385.jpg', 'cat.548.jpg', 'cat.85.jpg', 'cat.318.jpg', 'dog.501.jpg', 'dog.87.jpg', 'dog.399.jpg', 'cat.568.jpg', 'cat.278.jpg', 'dog.73.jpg', 'cat.75.jpg', 'dog.359.jpg', 'dog.93.jpg', 'dog.2772.jpg', 'dog.365.jpg', 'dog.186.jpg', 'dog.162.jpg', 'dog.179.jpg', 'cat.22.jpg', 'cat.387.jpg', 'cat.61.jpg', 'cat.166.jpg', 'cat.68.jpg', 'cat.149.jpg', 'dog.337.jpg', 'dog.282.jpg', 'cat.19.jpg', 'cat.324.jpg', 'dog.300.jpg', 'cat.564.jpg', 'dog.389.jpg', 'dog.303.jpg', 'cat.12.jpg', 'cat.141.jpg', 'dog.2766.jpg', 'dog.79.jpg', 'dog.252.jpg', 'dog.94.jpg', 'dog.455.jpg', 'cat.463.jpg', 'cat.36.jpg', 'dog.203.jpg', 'cat.480.jpg', 'dog.448.jpg', 'cat.547.jpg', 'cat.554.jpg', 'cat.38.jpg', 'cat.165.jpg', 'cat.393.jpg', 'cat.116.jpg', 'cat.176.jpg', 'cat.541.jpg', 'cat.323.jpg', 'cat.204.jpg', 'dog.189.jpg', 'cat.16.jpg', 'dog.312.jpg', 'cat.129.jpg', 'cat.78.jpg', 'dog.202.jpg', 'dog.506.jpg', 'cat.313.jpg', 'cat.187.jpg', 'cat.467.jpg', 'cat.530.jpg', 'dog.17.jpg', 'dog.233.jpg', 'dog.61.jpg', 'cat.72.jpg', 'dog.241.jpg', 'dog.140.jpg', 'cat.222.jpg', 'cat.152.jpg', 'dog.459.jpg', 'dog.291.jpg', 'dog.2790.jpg', 'cat.356.jpg', 'dog.330.jpg', 'cat.9.jpg', 'dog.396.jpg', 'cat.100.jpg', 'cat.346.jpg', 'cat.380.jpg', 'dog.130.jpg', 'cat.369.jpg', 'dog.335.jpg', 'dog.24.jpg', 'dog.477.jpg', 'dog.437.jpg', 'dog.78.jpg', 'cat.148.jpg', 'dog.472.jpg', 'dog.314.jpg', 'dog.511.jpg', 'cat.71.jpg', 'cat.538.jpg', 'dog.450.jpg', 'cat.397.jpg', 'cat.422.jpg', 'dog.2769.jpg', 'dog.321.jpg', 'dog.2805.jpg', 'dog.333.jpg', 'cat.439.jpg', 'cat.586.jpg', 'cat.415.jpg', 'dog.2820.jpg', 'cat.598.jpg', 'dog.473.jpg', 'cat.361.jpg', 'dog.2817.jpg', 'cat.527.jpg', 'dog.125.jpg', 'cat.201.jpg', 'dog.415.jpg', 'dog.74.jpg', 'dog.440.jpg', 'dog.234.jpg', 'dog.46.jpg', 'dog.82.jpg', 'dog.100.jpg', 'cat.47.jpg', 'dog.2781.jpg', 'dog.167.jpg', 'dog.47.jpg', 'dog.92.jpg', 'dog.294.jpg', 'dog.267.jpg', 'dog.431.jpg', 'dog.199.jpg', 'cat.458.jpg', 'dog.171.jpg', 'cat.130.jpg', 'cat.585.jpg', 'dog.458.jpg', 'cat.543.jpg', 'cat.502.jpg', 'cat.223.jpg', 'cat.257.jpg', 'cat.423.jpg', 'cat.365.jpg', 'dog.377.jpg', 'cat.487.jpg', 'dog.445.jpg', 'dog.363.jpg', 'dog.192.jpg', 'dog.26.jpg', 'cat.445.jpg', 'dog.108.jpg', 'dog.2786.jpg', 'dog.11.jpg', 'cat.107.jpg', 'dog.391.jpg', 'cat.499.jpg', 'dog.350.jpg', 'cat.282.jpg', 'dog.261.jpg', 'dog.216.jpg', 'cat.592.jpg', 'dog.2755.jpg', 'cat.237.jpg', 'cat.156.jpg', 'dog.373.jpg', 'cat.345.jpg', 'cat.113.jpg', 'cat.137.jpg', 'dog.498.jpg', 'dog.154.jpg', 'dog.2765.jpg', 'dog.308.jpg', 'cat.432.jpg', 'cat.272.jpg', 'cat.253.jpg', 'cat.575.jpg', 'cat.235.jpg', 'dog.114.jpg', 'cat.569.jpg', 'cat.488.jpg', 'cat.99.jpg', 'dog.2768.jpg', 'dog.258.jpg', 'dog.165.jpg', 'dog.388.jpg', 'cat.29.jpg', 'cat.265.jpg', 'cat.584.jpg', 'cat.151.jpg', 'dog.343.jpg', 'cat.404.jpg', 'cat.351.jpg', 'cat.101.jpg', 'cat.410.jpg', 'cat.347.jpg', 'cat.139.jpg', 'dog.347.jpg', 'cat.443.jpg', 'dog.220.jpg', 'cat.180.jpg', 'dog.379.jpg', 'dog.254.jpg', 'cat.578.jpg', 'cat.97.jpg', 'cat.221.jpg', 'cat.83.jpg', 'cat.375.jpg', 'dog.2764.jpg', 'dog.256.jpg', 'dog.338.jpg', 'dog.482.jpg', 'dog.2771.jpg', 'cat.495.jpg', 'dog.2802.jpg', 'dog.155.jpg', 'dog.2821.jpg', 'cat.481.jpg', 'cat.121.jpg', 'dog.382.jpg', 'cat.69.jpg', 'cat.57.jpg', 'cat.340.jpg', 'cat.122.jpg', 'dog.275.jpg', 'cat.325.jpg', 'cat.312.jpg', 'dog.290.jpg', 'dog.515.jpg', 'dog.2787.jpg', 'dog.449.jpg', 'cat.213.jpg', 'cat.277.jpg', 'dog.40.jpg', 'dog.408.jpg', 'cat.39.jpg', 'dog.451.jpg', 'cat.390.jpg', 'dog.12.jpg', 'dog.69.jpg', 'dog.325.jpg', 'dog.157.jpg', 'dog.272.jpg', 'cat.510.jpg', 'dog.429.jpg', 'cat.557.jpg', 'dog.406.jpg', 'dog.142.jpg', 'dog.9.jpg', 'dog.508.jpg', 'cat.143.jpg', 'cat.382.jpg', 'dog.456.jpg', 'dog.423.jpg', 'dog.169.jpg', 'dog.412.jpg', 'cat.286.jpg', 'cat.494.jpg', 'dog.2807.jpg', 'cat.321.jpg', 'dog.146.jpg', 'dog.174.jpg', 'cat.281.jpg', 'cat.470.jpg', 'dog.183.jpg', 'dog.259.jpg', 'cat.110.jpg', 'dog.86.jpg', 'cat.104.jpg', 'dog.41.jpg', 'cat.228.jpg', 'cat.276.jpg', 'cat.335.jpg', 'cat.395.jpg', 'cat.87.jpg', 'cat.407.jpg', 'dog.496.jpg', 'cat.15.jpg', 'dog.499.jpg', 'dog.2778.jpg', 'cat.358.jpg', 'cat.89.jpg', 'dog.225.jpg', 'cat.163.jpg', 'dog.95.jpg', 'cat.4.jpg', 'dog.22.jpg', 'dog.311.jpg', 'dog.153.jpg', 'cat.486.jpg', 'cat.263.jpg', 'cat.295.jpg', 'cat.298.jpg', 'cat.528.jpg', 'dog.178.jpg', 'cat.320.jpg', 'cat.67.jpg', 'cat.106.jpg', 'cat.474.jpg', 'dog.400.jpg', 'cat.447.jpg', 'dog.433.jpg', 'cat.342.jpg', 'cat.542.jpg', 'dog.489.jpg', 'cat.58.jpg', 'dog.490.jpg', 'cat.507.jpg', 'dog.57.jpg', 'dog.53.jpg', 'dog.452.jpg', 'cat.158.jpg', 'cat.1.jpg', 'dog.143.jpg', 'cat.90.jpg', 'dog.2816.jpg', 'dog.4.jpg', 'dog.462.jpg', 'dog.286.jpg', 'cat.468.jpg', 'cat.279.jpg', 'cat.102.jpg', 'dog.51.jpg', 'dog.2793.jpg', 'dog.466.jpg', 'dog.245.jpg', 'dog.29.jpg', 'dog.32.jpg', 'dog.50.jpg', 'cat.292.jpg', 'cat.362.jpg', 'cat.327.jpg', 'cat.214.jpg', 'dog.85.jpg', 'cat.208.jpg', 'dog.372.jpg', 'cat.457.jpg', 'dog.135.jpg', 'cat.370.jpg', 'dog.160.jpg', 'dog.8.jpg', 'dog.301.jpg', 'dog.345.jpg', 'dog.441.jpg', 'cat.227.jpg', 'dog.237.jpg', 'dog.2789.jpg', 'dog.342.jpg', 'cat.514.jpg', 'cat.437.jpg', 'dog.2770.jpg', 'cat.326.jpg', 'cat.249.jpg', 'dog.88.jpg', 'cat.159.jpg', 'cat.505.jpg', 'dog.101.jpg', 'dog.309.jpg', 'dog.361.jpg', 'cat.563.jpg', 'cat.114.jpg', 'cat.496.jpg', 'cat.44.jpg', 'dog.226.jpg', 'cat.256.jpg', 'cat.64.jpg', 'dog.2813.jpg', 'dog.471.jpg', 'cat.27.jpg', 'cat.401.jpg', 'cat.171.jpg', 'dog.158.jpg', 'dog.504.jpg', 'cat.219.jpg', 'cat.562.jpg', 'dog.2806.jpg', 'dog.122.jpg', 'cat.181.jpg', 'cat.76.jpg', 'cat.123.jpg', 'dog.329.jpg', 'dog.2780.jpg', 'cat.500.jpg', 'dog.284.jpg', 'dog.33.jpg', 'cat.521.jpg', 'cat.40.jpg', 'cat.81.jpg', 'dog.283.jpg', 'cat.516.jpg', 'dog.268.jpg', 'dog.116.jpg', 'cat.13.jpg', 'cat.461.jpg', 'dog.65.jpg', 'cat.498.jpg', 'cat.199.jpg', 'cat.186.jpg', 'dog.37.jpg', 'cat.246.jpg', 'dog.374.jpg', 'cat.459.jpg', 'dog.137.jpg', 'dog.144.jpg', 'cat.291.jpg', 'cat.37.jpg', 'dog.45.jpg', 'dog.416.jpg', 'cat.11.jpg', 'dog.464.jpg', 'dog.276.jpg', 'dog.58.jpg', 'dog.68.jpg', 'dog.297.jpg', 'dog.2763.jpg', 'cat.10.jpg', 'cat.160.jpg', 'cat.593.jpg', 'dog.2818.jpg', 'dog.2801.jpg', 'cat.62.jpg', 'cat.6.jpg', 'cat.582.jpg', 'dog.443.jpg', 'dog.5.jpg', 'cat.108.jpg', 'dog.393.jpg', 'dog.419.jpg', 'cat.353.jpg', 'dog.2822.jpg', 'cat.205.jpg', 'dog.332.jpg', 'cat.240.jpg', 'dog.403.jpg', 'cat.172.jpg', 'dog.213.jpg', 'cat.288.jpg', 'cat.471.jpg', 'dog.326.jpg', 'cat.472.jpg', 'dog.105.jpg', 'cat.73.jpg', 'cat.244.jpg', 'cat.191.jpg', 'dog.340.jpg', 'dog.133.jpg', 'cat.41.jpg', 'dog.210.jpg', 'dog.181.jpg', 'cat.431.jpg', 'cat.162.jpg', 'cat.300.jpg', 'dog.3.jpg', 'cat.478.jpg', 'dog.99.jpg', 'cat.435.jpg', 'dog.274.jpg', 'dog.366.jpg', 'cat.526.jpg', 'dog.132.jpg', 'cat.43.jpg', 'dog.89.jpg', 'cat.450.jpg', 'dog.371.jpg', 'cat.216.jpg', 'dog.353.jpg', 'cat.261.jpg', 'dog.454.jpg', 'dog.2798.jpg', 'dog.2794.jpg', 'dog.2812.jpg', 'dog.139.jpg', 'cat.254.jpg', 'dog.289.jpg', 'dog.375.jpg', 'dog.244.jpg', 'dog.16.jpg', 'cat.131.jpg', 'dog.381.jpg', 'cat.82.jpg', 'cat.338.jpg', 'cat.452.jpg', 'cat.519.jpg', 'cat.293.jpg', 'cat.587.jpg', 'cat.283.jpg', 'cat.451.jpg', 'cat.576.jpg', 'dog.60.jpg', 'cat.544.jpg', 'cat.274.jpg', 'dog.444.jpg', 'dog.36.jpg', 'cat.275.jpg', 'cat.250.jpg', 'dog.421.jpg', 'cat.517.jpg', 'dog.407.jpg', 'cat.25.jpg', 'dog.55.jpg', 'dog.2757.jpg', 'cat.383.jpg', 'cat.138.jpg', 'cat.389.jpg', 'cat.46.jpg', 'cat.536.jpg', 'cat.173.jpg', 'cat.177.jpg', 'cat.402.jpg', 'dog.2797.jpg', 'dog.206.jpg', 'dog.23.jpg', 'cat.572.jpg', 'dog.31.jpg', 'cat.429.jpg', 'cat.33.jpg', 'dog.323.jpg', 'dog.317.jpg', 'cat.150.jpg', 'cat.589.jpg', 'cat.198.jpg', 'dog.156.jpg', 'cat.464.jpg', 'dog.260.jpg', 'cat.384.jpg', 'cat.34.jpg', 'cat.475.jpg', 'cat.65.jpg', 'dog.368.jpg', 'cat.304.jpg', 'cat.178.jpg', 'dog.195.jpg', 'dog.331.jpg', 'dog.128.jpg', 'cat.534.jpg', 'dog.238.jpg', 'cat.570.jpg', 'cat.55.jpg', 'dog.405.jpg', 'cat.409.jpg', 'dog.112.jpg', 'dog.198.jpg', 'dog.430.jpg', 'cat.284.jpg', 'cat.394.jpg', 'cat.550.jpg', 'dog.71.jpg', 'dog.346.jpg', 'cat.363.jpg', 'dog.401.jpg', 'cat.132.jpg', 'dog.476.jpg', 'dog.2825.jpg', 'dog.231.jpg', 'dog.394.jpg', 'cat.153.jpg', 'dog.59.jpg', 'dog.266.jpg', 'cat.509.jpg', 'cat.412.jpg', 'cat.403.jpg', 'cat.396.jpg', 'cat.449.jpg', 'cat.408.jpg', 'cat.264.jpg', 'cat.302.jpg', 'dog.380.jpg', 'cat.209.jpg', 'cat.381.jpg', 'cat.207.jpg', 'dog.34.jpg', 'dog.240.jpg', 'dog.149.jpg', 'dog.2788.jpg', 'cat.289.jpg', 'dog.150.jpg', 'cat.400.jpg', 'cat.248.jpg', 'dog.219.jpg', 'dog.2773.jpg', 'cat.540.jpg', 'cat.520.jpg', 'dog.491.jpg', 'cat.555.jpg', 'cat.545.jpg', 'cat.456.jpg', 'cat.88.jpg', 'cat.195.jpg', 'dog.465.jpg', 'dog.319.jpg', 'dog.398.jpg', 'cat.220.jpg', 'cat.285.jpg', 'cat.145.jpg', 'cat.230.jpg', 'cat.59.jpg', 'cat.566.jpg', 'dog.2759.jpg', 'dog.255.jpg', 'cat.374.jpg', 'cat.2.jpg', 'dog.190.jpg', 'cat.559.jpg', 'cat.556.jpg', 'cat.339.jpg', 'dog.507.jpg', 'dog.223.jpg', 'cat.155.jpg', 'cat.239.jpg', 'dog.119.jpg', 'dog.127.jpg', 'dog.263.jpg', 'cat.333.jpg', 'dog.115.jpg', 'cat.599.jpg', 'cat.95.jpg', 'cat.465.jpg', 'dog.503.jpg', 'cat.590.jpg', 'dog.239.jpg', 'dog.293.jpg', 'cat.169.jpg', 'cat.533.jpg', 'cat.411.jpg', 'dog.185.jpg', 'dog.2777.jpg', 'dog.2826.jpg', 'cat.377.jpg', 'dog.227.jpg', 'cat.440.jpg', 'cat.328.jpg', 'dog.176.jpg', 'dog.426.jpg', 'dog.457.jpg', 'dog.2815.jpg', 'dog.48.jpg', 'dog.486.jpg', 'dog.38.jpg', 'cat.372.jpg', 'dog.2.jpg', 'dog.66.jpg', 'dog.177.jpg', 'dog.228.jpg', 'cat.193.jpg', 'dog.182.jpg', 'cat.317.jpg', 'dog.310.jpg', 'cat.549.jpg', 'dog.336.jpg', 'dog.6.jpg', 'cat.506.jpg', 'dog.136.jpg', 'dog.2785.jpg', 'dog.196.jpg', 'cat.167.jpg', 'dog.168.jpg', 'dog.2824.jpg', 'cat.17.jpg', 'dog.212.jpg', 'dog.351.jpg', 'cat.236.jpg', 'cat.513.jpg', 'cat.523.jpg', 'cat.80.jpg', 'dog.2804.jpg', 'cat.379.jpg', 'cat.247.jpg', 'dog.281.jpg', 'cat.453.jpg', 'dog.109.jpg', 'dog.470.jpg', 'cat.366.jpg', 'dog.1.jpg', 'cat.157.jpg', 'dog.120.jpg', 'dog.2809.jpg', 'cat.376.jpg', 'cat.124.jpg', 'cat.51.jpg', 'cat.424.jpg', 'cat.503.jpg', 'dog.2775.jpg', 'dog.479.jpg', 'dog.318.jpg', 'cat.86.jpg', 'cat.142.jpg', 'cat.426.jpg', 'cat.531.jpg', 'cat.270.jpg', 'cat.183.jpg', 'cat.438.jpg', 'dog.356.jpg', 'cat.442.jpg', 'dog.262.jpg', 'dog.494.jpg', 'dog.2810.jpg', 'dog.15.jpg', 'cat.305.jpg', 'cat.225.jpg', 'dog.27.jpg', 'dog.2814.jpg', 'dog.161.jpg', 'cat.118.jpg', 'dog.442.jpg', 'cat.515.jpg', 'dog.44.jpg', 'dog.302.jpg', 'cat.115.jpg', 'cat.565.jpg', 'cat.492.jpg', 'cat.184.jpg', 'dog.510.jpg', 'cat.128.jpg', 'dog.324.jpg', 'cat.332.jpg', 'dog.64.jpg', 'dog.2756.jpg', 'dog.188.jpg', 'dog.487.jpg', 'dog.249.jpg', 'cat.218.jpg', 'dog.102.jpg', 'cat.267.jpg', 'cat.398.jpg', 'cat.48.jpg', 'cat.30.jpg', 'dog.378.jpg', 'dog.307.jpg', 'cat.212.jpg', 'cat.360.jpg', 'dog.358.jpg', 'cat.489.jpg', 'cat.594.jpg']\n"
          ]
        }
      ],
      "source": [
        "print(filenames)"
      ]
    },
    {
      "cell_type": "code",
      "execution_count": 12,
      "metadata": {
        "id": "g7l4HuXY_cLi"
      },
      "outputs": [],
      "source": [
        "#print(os.listdir(\"data\"))"
      ]
    },
    {
      "cell_type": "markdown",
      "metadata": {
        "id": "hSldCEBa69J3"
      },
      "source": [
        "Prepare Traning Data"
      ]
    },
    {
      "cell_type": "code",
      "execution_count": 13,
      "metadata": {
        "colab": {
          "base_uri": "https://localhost:8080/",
          "height": 292
        },
        "id": "Xz3eXcqg9RkW",
        "outputId": "7853f2e2-99b4-4ee1-a404-cf9ea9d7f3af"
      },
      "outputs": [
        {
          "output_type": "execute_result",
          "data": {
            "text/plain": [
              "<matplotlib.axes._subplots.AxesSubplot at 0x7f20a33c65e0>"
            ]
          },
          "metadata": {},
          "execution_count": 13
        },
        {
          "output_type": "display_data",
          "data": {
            "text/plain": [
              "<Figure size 432x288 with 1 Axes>"
            ],
            "image/png": "[encoded data removed]"
          },
          "metadata": {
            "needs_background": "light"
          }
        }
      ],
      "source": [
        "df['category'].value_counts().plot.bar()"
      ]
    },
    {
      "cell_type": "code",
      "execution_count": 14,
      "metadata": {
        "id": "tD7i2DEm9p3k"
      },
      "outputs": [],
      "source": [
        "#image size\n",
        "image_shape = (224,224,3)"
      ]
    },
    {
      "cell_type": "code",
      "execution_count": 15,
      "metadata": {
        "id": "x_1NjgBtHR9S"
      },
      "outputs": [],
      "source": [
        "#filenames = np.asarray(filenames) #data are converted to an array\n",
        "#category = np.asarray(category)"
      ]
    },
    {
      "cell_type": "code",
      "execution_count": 16,
      "metadata": {
        "colab": {
          "base_uri": "https://localhost:8080/"
        },
        "id": "j3qjbdgWQuAK",
        "outputId": "182ac760-b7d4-4267-8d38-918ec5984640"
      },
      "outputs": [
        {
          "output_type": "stream",
          "name": "stdout",
          "text": [
            "['dog.2767.jpg', 'cat.146.jpg', 'cat.446.jpg', 'cat.93.jpg', 'dog.370.jpg', 'dog.387.jpg', 'cat.477.jpg', 'cat.229.jpg', 'cat.316.jpg', 'dog.2760.jpg', 'dog.395.jpg', 'cat.206.jpg', 'dog.436.jpg', 'dog.106.jpg', 'cat.577.jpg', 'dog.438.jpg', 'cat.226.jpg', 'dog.2761.jpg', 'cat.337.jpg', 'cat.309.jpg', 'dog.469.jpg', 'cat.260.jpg', 'cat.485.jpg', 'cat.136.jpg', 'cat.211.jpg', 'dog.409.jpg', 'cat.418.jpg', 'cat.74.jpg', 'dog.80.jpg', 'cat.242.jpg', 'dog.52.jpg', 'dog.269.jpg', 'cat.479.jpg', 'dog.434.jpg', 'dog.147.jpg', 'dog.413.jpg', 'dog.420.jpg', 'dog.247.jpg', 'cat.269.jpg', 'dog.2758.jpg', 'dog.25.jpg', 'cat.18.jpg', 'dog.270.jpg', 'cat.185.jpg', 'dog.280.jpg', 'cat.430.jpg', 'dog.2776.jpg', 'cat.349.jpg', 'cat.552.jpg', 'cat.202.jpg', 'cat.386.jpg', 'dog.81.jpg', 'dog.151.jpg', 'cat.580.jpg', 'dog.18.jpg', 'cat.303.jpg', 'dog.2792.jpg', 'dog.273.jpg', 'dog.514.jpg', 'cat.306.jpg', 'cat.251.jpg', 'dog.492.jpg', 'cat.466.jpg', 'dog.205.jpg', 'cat.50.jpg', 'cat.367.jpg', 'dog.296.jpg', 'dog.13.jpg', 'dog.235.jpg', 'dog.90(1).jpg', 'dog.298.jpg', 'dog.230.jpg', 'dog.204.jpg', 'cat.307.jpg', 'cat.117.jpg', 'cat.573.jpg', 'dog.344.jpg', 'dog.349.jpg', 'cat.271.jpg', 'dog.288.jpg', 'dog.428.jpg', 'dog.427.jpg', 'cat.529.jpg', 'dog.322.jpg', 'cat.414.jpg', 'dog.339.jpg', 'dog.468.jpg', 'cat.501.jpg', 'cat.444.jpg', 'cat.493.jpg', 'dog.19.jpg', 'cat.164.jpg', 'cat.255.jpg', 'dog.197.jpg', 'dog.76.jpg', 'dog.435.jpg', 'dog.478.jpg', 'dog.251.jpg', 'cat.109.jpg', 'cat.92.jpg', 'cat.391.jpg', 'dog.43.jpg', 'cat.8.jpg', 'cat.330.jpg', 'cat.512.jpg', 'dog.402.jpg', 'cat.23.jpg', 'dog.305.jpg', 'dog.84(1).jpg', 'cat.482.jpg', 'dog.30.jpg', 'cat.417.jpg', 'dog.480.jpg', 'dog.211.jpg', 'cat.561.jpg', 'dog.54.jpg', 'cat.522.jpg', 'dog.123.jpg', 'cat.579.jpg', 'dog.417.jpg', 'cat.596.jpg', 'cat.352.jpg', 'cat.354.jpg', 'cat.299.jpg', 'cat.334.jpg', 'cat.262.jpg', 'cat.597.jpg', 'dog.126.jpg', 'cat.241.jpg', 'dog.410.jpg', 'cat.491.jpg', 'dog.62.jpg', 'cat.314.jpg', 'cat.197.jpg', 'cat.310.jpg', 'cat.296.jpg', 'cat.319.jpg', 'dog.118.jpg', 'dog.2782.jpg', 'dog.424.jpg', 'dog.513.jpg', 'cat.144.jpg', 'cat.311.jpg', 'cat.66.jpg', 'dog.218.jpg', 'dog.141.jpg', 'cat.103.jpg', 'dog.107.jpg', 'dog.163.jpg', 'dog.2754.jpg', 'dog.384.jpg', 'cat.454.jpg', 'cat.243.jpg', 'dog.175.jpg', 'dog.2779.jpg', 'cat.45.jpg', 'cat.94.jpg', 'dog.121.jpg', 'dog.20.jpg', 'cat.535.jpg', 'cat.60.jpg', 'cat.344.jpg', 'cat.583.jpg', 'dog.2799.jpg', 'dog.304.jpg', 'cat.484.jpg', 'cat.188.jpg', 'dog.295.jpg', 'dog.134.jpg', 'dog.360.jpg', 'dog.354.jpg', 'cat.355.jpg', 'cat.96.jpg', 'dog.193.jpg', 'cat.120.jpg', 'cat.234.jpg', 'cat.388.jpg', 'cat.134.jpg', 'dog.2823.jpg', 'cat.179.jpg', 'dog.172.jpg', 'cat.31.jpg', 'dog.493.jpg', 'cat.571.jpg', 'cat.601.jpg', 'cat.473.jpg', 'dog.10.jpg', 'dog.2803.jpg', 'cat.297.jpg', 'dog.512.jpg', 'cat.24.jpg', 'dog.484.jpg', 'dog.500.jpg', 'cat.135.jpg', 'dog.148.jpg', 'dog.279.jpg', 'dog.2796.jpg', 'dog.2800.jpg', 'dog.221.jpg', 'dog.316.jpg', 'dog.364.jpg', 'cat.127.jpg', 'dog.104.jpg', 'cat.425.jpg', 'dog.2795.jpg', 'dog.129.jpg', 'cat.524.jpg', 'cat.428.jpg', 'dog.505.jpg', 'cat.111.jpg', 'dog.232.jpg', 'cat.341.jpg', 'cat.368.jpg', 'dog.246.jpg', 'dog.72.jpg', 'dog.207.jpg', 'cat.600.jpg', 'cat.331.jpg', 'dog.287.jpg', 'dog.2791.jpg', 'cat.436.jpg', 'cat.79.jpg', 'cat.268.jpg', 'cat.508.jpg', 'dog.164.jpg', 'cat.290.jpg', 'dog.2762.jpg', 'dog.2811.jpg', 'dog.111.jpg', 'dog.83.jpg', 'dog.2819.jpg', 'dog.209.jpg', 'dog.191.jpg', 'cat.258.jpg', 'cat.421.jpg', 'cat.194.jpg', 'dog.497.jpg', 'dog.367.jpg', 'cat.200.jpg', 'cat.174.jpg', 'cat.433.jpg', 'dog.242.jpg', 'dog.447.jpg', 'dog.277.jpg', 'cat.233.jpg', 'cat.348.jpg', 'cat.52.jpg', 'dog.248.jpg', 'dog.75.jpg', 'cat.5.jpg', 'cat.416.jpg', 'dog.485.jpg', 'cat.125.jpg', 'dog.414.jpg', 'dog.2784.jpg', 'cat.26.jpg', 'dog.67.jpg', 'cat.54.jpg', 'cat.419.jpg', 'dog.265.jpg', 'cat.537.jpg', 'dog.253.jpg', 'dog.328.jpg', 'cat.359.jpg', 'dog.214.jpg', 'dog.184.jpg', 'dog.461.jpg', 'cat.558.jpg', 'cat.215.jpg', 'cat.551.jpg', 'cat.232.jpg', 'dog.39.jpg', 'dog.113.jpg', 'dog.392.jpg', 'dog.422.jpg', 'dog.170.jpg', 'dog.315.jpg', 'cat.405.jpg', 'dog.2774.jpg', 'dog.463.jpg', 'cat.53.jpg', 'dog.217.jpg', 'cat.170.jpg', 'dog.352.jpg', 'dog.91.jpg', 'dog.357.jpg', 'dog.98.jpg', 'cat.373.jpg', 'dog.386.jpg', 'dog.200.jpg', 'cat.20.jpg', 'cat.3.jpg', 'cat.192.jpg', 'cat.591.jpg', 'cat.32.jpg', 'dog.475.jpg', 'dog.2808.jpg', 'cat.190.jpg', 'dog.97.jpg', 'cat.460.jpg', 'dog.483.jpg', 'dog.2783.jpg', 'dog.224.jpg', 'dog.385.jpg', 'cat.548.jpg', 'cat.85.jpg', 'cat.318.jpg', 'dog.501.jpg', 'dog.87.jpg', 'dog.399.jpg', 'cat.568.jpg', 'cat.278.jpg', 'dog.73.jpg', 'cat.75.jpg', 'dog.359.jpg', 'dog.93.jpg', 'dog.2772.jpg', 'dog.365.jpg', 'dog.186.jpg', 'dog.162.jpg', 'dog.179.jpg', 'cat.22.jpg', 'cat.387.jpg', 'cat.61.jpg', 'cat.166.jpg', 'cat.68.jpg', 'cat.149.jpg', 'dog.337.jpg', 'dog.282.jpg', 'cat.19.jpg', 'cat.324.jpg', 'dog.300.jpg', 'cat.564.jpg', 'dog.389.jpg', 'dog.303.jpg', 'cat.12.jpg', 'cat.141.jpg', 'dog.2766.jpg', 'dog.79.jpg', 'dog.252.jpg', 'dog.94.jpg', 'dog.455.jpg', 'cat.463.jpg', 'cat.36.jpg', 'dog.203.jpg', 'cat.480.jpg', 'dog.448.jpg', 'cat.547.jpg', 'cat.554.jpg', 'cat.38.jpg', 'cat.165.jpg', 'cat.393.jpg', 'cat.116.jpg', 'cat.176.jpg', 'cat.541.jpg', 'cat.323.jpg', 'cat.204.jpg', 'dog.189.jpg', 'cat.16.jpg', 'dog.312.jpg', 'cat.129.jpg', 'cat.78.jpg', 'dog.202.jpg', 'dog.506.jpg', 'cat.313.jpg', 'cat.187.jpg', 'cat.467.jpg', 'cat.530.jpg', 'dog.17.jpg', 'dog.233.jpg', 'dog.61.jpg', 'cat.72.jpg', 'dog.241.jpg', 'dog.140.jpg', 'cat.222.jpg', 'cat.152.jpg', 'dog.459.jpg', 'dog.291.jpg', 'dog.2790.jpg', 'cat.356.jpg', 'dog.330.jpg', 'cat.9.jpg', 'dog.396.jpg', 'cat.100.jpg', 'cat.346.jpg', 'cat.380.jpg', 'dog.130.jpg', 'cat.369.jpg', 'dog.335.jpg', 'dog.24.jpg', 'dog.477.jpg', 'dog.437.jpg', 'dog.78.jpg', 'cat.148.jpg', 'dog.472.jpg', 'dog.314.jpg', 'dog.511.jpg', 'cat.71.jpg', 'cat.538.jpg', 'dog.450.jpg', 'cat.397.jpg', 'cat.422.jpg', 'dog.2769.jpg', 'dog.321.jpg', 'dog.2805.jpg', 'dog.333.jpg', 'cat.439.jpg', 'cat.586.jpg', 'cat.415.jpg', 'dog.2820.jpg', 'cat.598.jpg', 'dog.473.jpg', 'cat.361.jpg', 'dog.2817.jpg', 'cat.527.jpg', 'dog.125.jpg', 'cat.201.jpg', 'dog.415.jpg', 'dog.74.jpg', 'dog.440.jpg', 'dog.234.jpg', 'dog.46.jpg', 'dog.82.jpg', 'dog.100.jpg', 'cat.47.jpg', 'dog.2781.jpg', 'dog.167.jpg', 'dog.47.jpg', 'dog.92.jpg', 'dog.294.jpg', 'dog.267.jpg', 'dog.431.jpg', 'dog.199.jpg', 'cat.458.jpg', 'dog.171.jpg', 'cat.130.jpg', 'cat.585.jpg', 'dog.458.jpg', 'cat.543.jpg', 'cat.502.jpg', 'cat.223.jpg', 'cat.257.jpg', 'cat.423.jpg', 'cat.365.jpg', 'dog.377.jpg', 'cat.487.jpg', 'dog.445.jpg', 'dog.363.jpg', 'dog.192.jpg', 'dog.26.jpg', 'cat.445.jpg', 'dog.108.jpg', 'dog.2786.jpg', 'dog.11.jpg', 'cat.107.jpg', 'dog.391.jpg', 'cat.499.jpg', 'dog.350.jpg', 'cat.282.jpg', 'dog.261.jpg', 'dog.216.jpg', 'cat.592.jpg', 'dog.2755.jpg', 'cat.237.jpg', 'cat.156.jpg', 'dog.373.jpg', 'cat.345.jpg', 'cat.113.jpg', 'cat.137.jpg', 'dog.498.jpg', 'dog.154.jpg', 'dog.2765.jpg', 'dog.308.jpg', 'cat.432.jpg', 'cat.272.jpg', 'cat.253.jpg', 'cat.575.jpg', 'cat.235.jpg', 'dog.114.jpg', 'cat.569.jpg', 'cat.488.jpg', 'cat.99.jpg', 'dog.2768.jpg', 'dog.258.jpg', 'dog.165.jpg', 'dog.388.jpg', 'cat.29.jpg', 'cat.265.jpg', 'cat.584.jpg', 'cat.151.jpg', 'dog.343.jpg', 'cat.404.jpg', 'cat.351.jpg', 'cat.101.jpg', 'cat.410.jpg', 'cat.347.jpg', 'cat.139.jpg', 'dog.347.jpg', 'cat.443.jpg', 'dog.220.jpg', 'cat.180.jpg', 'dog.379.jpg', 'dog.254.jpg', 'cat.578.jpg', 'cat.97.jpg', 'cat.221.jpg', 'cat.83.jpg', 'cat.375.jpg', 'dog.2764.jpg', 'dog.256.jpg', 'dog.338.jpg', 'dog.482.jpg', 'dog.2771.jpg', 'cat.495.jpg', 'dog.2802.jpg', 'dog.155.jpg', 'dog.2821.jpg', 'cat.481.jpg', 'cat.121.jpg', 'dog.382.jpg', 'cat.69.jpg', 'cat.57.jpg', 'cat.340.jpg', 'cat.122.jpg', 'dog.275.jpg', 'cat.325.jpg', 'cat.312.jpg', 'dog.290.jpg', 'dog.515.jpg', 'dog.2787.jpg', 'dog.449.jpg', 'cat.213.jpg', 'cat.277.jpg', 'dog.40.jpg', 'dog.408.jpg', 'cat.39.jpg', 'dog.451.jpg', 'cat.390.jpg', 'dog.12.jpg', 'dog.69.jpg', 'dog.325.jpg', 'dog.157.jpg', 'dog.272.jpg', 'cat.510.jpg', 'dog.429.jpg', 'cat.557.jpg', 'dog.406.jpg', 'dog.142.jpg', 'dog.9.jpg', 'dog.508.jpg', 'cat.143.jpg', 'cat.382.jpg', 'dog.456.jpg', 'dog.423.jpg', 'dog.169.jpg', 'dog.412.jpg', 'cat.286.jpg', 'cat.494.jpg', 'dog.2807.jpg', 'cat.321.jpg', 'dog.146.jpg', 'dog.174.jpg', 'cat.281.jpg', 'cat.470.jpg', 'dog.183.jpg', 'dog.259.jpg', 'cat.110.jpg', 'dog.86.jpg', 'cat.104.jpg', 'dog.41.jpg', 'cat.228.jpg', 'cat.276.jpg', 'cat.335.jpg', 'cat.395.jpg', 'cat.87.jpg', 'cat.407.jpg', 'dog.496.jpg', 'cat.15.jpg', 'dog.499.jpg', 'dog.2778.jpg', 'cat.358.jpg', 'cat.89.jpg', 'dog.225.jpg', 'cat.163.jpg', 'dog.95.jpg', 'cat.4.jpg', 'dog.22.jpg', 'dog.311.jpg', 'dog.153.jpg', 'cat.486.jpg', 'cat.263.jpg', 'cat.295.jpg', 'cat.298.jpg', 'cat.528.jpg', 'dog.178.jpg', 'cat.320.jpg', 'cat.67.jpg', 'cat.106.jpg', 'cat.474.jpg', 'dog.400.jpg', 'cat.447.jpg', 'dog.433.jpg', 'cat.342.jpg', 'cat.542.jpg', 'dog.489.jpg', 'cat.58.jpg', 'dog.490.jpg', 'cat.507.jpg', 'dog.57.jpg', 'dog.53.jpg', 'dog.452.jpg', 'cat.158.jpg', 'cat.1.jpg', 'dog.143.jpg', 'cat.90.jpg', 'dog.2816.jpg', 'dog.4.jpg', 'dog.462.jpg', 'dog.286.jpg', 'cat.468.jpg', 'cat.279.jpg', 'cat.102.jpg', 'dog.51.jpg', 'dog.2793.jpg', 'dog.466.jpg', 'dog.245.jpg', 'dog.29.jpg', 'dog.32.jpg', 'dog.50.jpg', 'cat.292.jpg', 'cat.362.jpg', 'cat.327.jpg', 'cat.214.jpg', 'dog.85.jpg', 'cat.208.jpg', 'dog.372.jpg', 'cat.457.jpg', 'dog.135.jpg', 'cat.370.jpg', 'dog.160.jpg', 'dog.8.jpg', 'dog.301.jpg', 'dog.345.jpg', 'dog.441.jpg', 'cat.227.jpg', 'dog.237.jpg', 'dog.2789.jpg', 'dog.342.jpg', 'cat.514.jpg', 'cat.437.jpg', 'dog.2770.jpg', 'cat.326.jpg', 'cat.249.jpg', 'dog.88.jpg', 'cat.159.jpg', 'cat.505.jpg', 'dog.101.jpg', 'dog.309.jpg', 'dog.361.jpg', 'cat.563.jpg', 'cat.114.jpg', 'cat.496.jpg', 'cat.44.jpg', 'dog.226.jpg', 'cat.256.jpg', 'cat.64.jpg', 'dog.2813.jpg', 'dog.471.jpg', 'cat.27.jpg', 'cat.401.jpg', 'cat.171.jpg', 'dog.158.jpg', 'dog.504.jpg', 'cat.219.jpg', 'cat.562.jpg', 'dog.2806.jpg', 'dog.122.jpg', 'cat.181.jpg', 'cat.76.jpg', 'cat.123.jpg', 'dog.329.jpg', 'dog.2780.jpg', 'cat.500.jpg', 'dog.284.jpg', 'dog.33.jpg', 'cat.521.jpg', 'cat.40.jpg', 'cat.81.jpg', 'dog.283.jpg', 'cat.516.jpg', 'dog.268.jpg', 'dog.116.jpg', 'cat.13.jpg', 'cat.461.jpg', 'dog.65.jpg', 'cat.498.jpg', 'cat.199.jpg', 'cat.186.jpg', 'dog.37.jpg', 'cat.246.jpg', 'dog.374.jpg', 'cat.459.jpg', 'dog.137.jpg', 'dog.144.jpg', 'cat.291.jpg', 'cat.37.jpg', 'dog.45.jpg', 'dog.416.jpg', 'cat.11.jpg', 'dog.464.jpg', 'dog.276.jpg', 'dog.58.jpg', 'dog.68.jpg', 'dog.297.jpg', 'dog.2763.jpg', 'cat.10.jpg', 'cat.160.jpg', 'cat.593.jpg', 'dog.2818.jpg', 'dog.2801.jpg', 'cat.62.jpg', 'cat.6.jpg', 'cat.582.jpg', 'dog.443.jpg', 'dog.5.jpg', 'cat.108.jpg', 'dog.393.jpg', 'dog.419.jpg', 'cat.353.jpg', 'dog.2822.jpg', 'cat.205.jpg', 'dog.332.jpg', 'cat.240.jpg', 'dog.403.jpg', 'cat.172.jpg', 'dog.213.jpg', 'cat.288.jpg', 'cat.471.jpg', 'dog.326.jpg', 'cat.472.jpg', 'dog.105.jpg', 'cat.73.jpg', 'cat.244.jpg', 'cat.191.jpg', 'dog.340.jpg', 'dog.133.jpg', 'cat.41.jpg', 'dog.210.jpg', 'dog.181.jpg', 'cat.431.jpg', 'cat.162.jpg', 'cat.300.jpg', 'dog.3.jpg', 'cat.478.jpg', 'dog.99.jpg', 'cat.435.jpg', 'dog.274.jpg', 'dog.366.jpg', 'cat.526.jpg', 'dog.132.jpg', 'cat.43.jpg', 'dog.89.jpg', 'cat.450.jpg', 'dog.371.jpg', 'cat.216.jpg', 'dog.353.jpg', 'cat.261.jpg', 'dog.454.jpg', 'dog.2798.jpg', 'dog.2794.jpg', 'dog.2812.jpg', 'dog.139.jpg', 'cat.254.jpg', 'dog.289.jpg', 'dog.375.jpg', 'dog.244.jpg', 'dog.16.jpg', 'cat.131.jpg', 'dog.381.jpg', 'cat.82.jpg', 'cat.338.jpg', 'cat.452.jpg', 'cat.519.jpg', 'cat.293.jpg', 'cat.587.jpg', 'cat.283.jpg', 'cat.451.jpg', 'cat.576.jpg', 'dog.60.jpg', 'cat.544.jpg', 'cat.274.jpg', 'dog.444.jpg', 'dog.36.jpg', 'cat.275.jpg', 'cat.250.jpg', 'dog.421.jpg', 'cat.517.jpg', 'dog.407.jpg', 'cat.25.jpg', 'dog.55.jpg', 'dog.2757.jpg', 'cat.383.jpg', 'cat.138.jpg', 'cat.389.jpg', 'cat.46.jpg', 'cat.536.jpg', 'cat.173.jpg', 'cat.177.jpg', 'cat.402.jpg', 'dog.2797.jpg', 'dog.206.jpg', 'dog.23.jpg', 'cat.572.jpg', 'dog.31.jpg', 'cat.429.jpg', 'cat.33.jpg', 'dog.323.jpg', 'dog.317.jpg', 'cat.150.jpg', 'cat.589.jpg', 'cat.198.jpg', 'dog.156.jpg', 'cat.464.jpg', 'dog.260.jpg', 'cat.384.jpg', 'cat.34.jpg', 'cat.475.jpg', 'cat.65.jpg', 'dog.368.jpg', 'cat.304.jpg', 'cat.178.jpg', 'dog.195.jpg', 'dog.331.jpg', 'dog.128.jpg', 'cat.534.jpg', 'dog.238.jpg', 'cat.570.jpg', 'cat.55.jpg', 'dog.405.jpg', 'cat.409.jpg', 'dog.112.jpg', 'dog.198.jpg', 'dog.430.jpg', 'cat.284.jpg', 'cat.394.jpg', 'cat.550.jpg', 'dog.71.jpg', 'dog.346.jpg', 'cat.363.jpg', 'dog.401.jpg', 'cat.132.jpg', 'dog.476.jpg', 'dog.2825.jpg', 'dog.231.jpg', 'dog.394.jpg', 'cat.153.jpg', 'dog.59.jpg', 'dog.266.jpg', 'cat.509.jpg', 'cat.412.jpg', 'cat.403.jpg', 'cat.396.jpg', 'cat.449.jpg', 'cat.408.jpg', 'cat.264.jpg', 'cat.302.jpg', 'dog.380.jpg', 'cat.209.jpg', 'cat.381.jpg', 'cat.207.jpg', 'dog.34.jpg', 'dog.240.jpg', 'dog.149.jpg', 'dog.2788.jpg', 'cat.289.jpg', 'dog.150.jpg', 'cat.400.jpg', 'cat.248.jpg', 'dog.219.jpg', 'dog.2773.jpg', 'cat.540.jpg', 'cat.520.jpg', 'dog.491.jpg', 'cat.555.jpg', 'cat.545.jpg', 'cat.456.jpg', 'cat.88.jpg', 'cat.195.jpg', 'dog.465.jpg', 'dog.319.jpg', 'dog.398.jpg', 'cat.220.jpg', 'cat.285.jpg', 'cat.145.jpg', 'cat.230.jpg', 'cat.59.jpg', 'cat.566.jpg', 'dog.2759.jpg', 'dog.255.jpg', 'cat.374.jpg', 'cat.2.jpg', 'dog.190.jpg', 'cat.559.jpg', 'cat.556.jpg', 'cat.339.jpg', 'dog.507.jpg', 'dog.223.jpg', 'cat.155.jpg', 'cat.239.jpg', 'dog.119.jpg', 'dog.127.jpg', 'dog.263.jpg', 'cat.333.jpg', 'dog.115.jpg', 'cat.599.jpg', 'cat.95.jpg', 'cat.465.jpg', 'dog.503.jpg', 'cat.590.jpg', 'dog.239.jpg', 'dog.293.jpg', 'cat.169.jpg', 'cat.533.jpg', 'cat.411.jpg', 'dog.185.jpg', 'dog.2777.jpg', 'dog.2826.jpg', 'cat.377.jpg', 'dog.227.jpg', 'cat.440.jpg', 'cat.328.jpg', 'dog.176.jpg', 'dog.426.jpg', 'dog.457.jpg', 'dog.2815.jpg', 'dog.48.jpg', 'dog.486.jpg', 'dog.38.jpg', 'cat.372.jpg', 'dog.2.jpg', 'dog.66.jpg', 'dog.177.jpg', 'dog.228.jpg', 'cat.193.jpg', 'dog.182.jpg', 'cat.317.jpg', 'dog.310.jpg', 'cat.549.jpg', 'dog.336.jpg', 'dog.6.jpg', 'cat.506.jpg', 'dog.136.jpg', 'dog.2785.jpg', 'dog.196.jpg', 'cat.167.jpg', 'dog.168.jpg', 'dog.2824.jpg', 'cat.17.jpg', 'dog.212.jpg', 'dog.351.jpg', 'cat.236.jpg', 'cat.513.jpg', 'cat.523.jpg', 'cat.80.jpg', 'dog.2804.jpg', 'cat.379.jpg', 'cat.247.jpg', 'dog.281.jpg', 'cat.453.jpg', 'dog.109.jpg', 'dog.470.jpg', 'cat.366.jpg', 'dog.1.jpg', 'cat.157.jpg', 'dog.120.jpg', 'dog.2809.jpg', 'cat.376.jpg', 'cat.124.jpg', 'cat.51.jpg', 'cat.424.jpg', 'cat.503.jpg', 'dog.2775.jpg', 'dog.479.jpg', 'dog.318.jpg', 'cat.86.jpg', 'cat.142.jpg', 'cat.426.jpg', 'cat.531.jpg', 'cat.270.jpg', 'cat.183.jpg', 'cat.438.jpg', 'dog.356.jpg', 'cat.442.jpg', 'dog.262.jpg', 'dog.494.jpg', 'dog.2810.jpg', 'dog.15.jpg', 'cat.305.jpg', 'cat.225.jpg', 'dog.27.jpg', 'dog.2814.jpg', 'dog.161.jpg', 'cat.118.jpg', 'dog.442.jpg', 'cat.515.jpg', 'dog.44.jpg', 'dog.302.jpg', 'cat.115.jpg', 'cat.565.jpg', 'cat.492.jpg', 'cat.184.jpg', 'dog.510.jpg', 'cat.128.jpg', 'dog.324.jpg', 'cat.332.jpg', 'dog.64.jpg', 'dog.2756.jpg', 'dog.188.jpg', 'dog.487.jpg', 'dog.249.jpg', 'cat.218.jpg', 'dog.102.jpg', 'cat.267.jpg', 'cat.398.jpg', 'cat.48.jpg', 'cat.30.jpg', 'dog.378.jpg', 'dog.307.jpg', 'cat.212.jpg', 'cat.360.jpg', 'dog.358.jpg', 'cat.489.jpg', 'cat.594.jpg']\n",
            "['dog', 'cat', 'cat', 'cat', 'dog', 'dog', 'cat', 'cat', 'cat', 'dog', 'dog', 'cat', 'dog', 'dog', 'cat', 'dog', 'cat', 'dog', 'cat', 'cat', 'dog', 'cat', 'cat', 'cat', 'cat', 'dog', 'cat', 'cat', 'dog', 'cat', 'dog', 'dog', 'cat', 'dog', 'dog', 'dog', 'dog', 'dog', 'cat', 'dog', 'dog', 'cat', 'dog', 'cat', 'dog', 'cat', 'dog', 'cat', 'cat', 'cat', 'cat', 'dog', 'dog', 'cat', 'dog', 'cat', 'dog', 'dog', 'dog', 'cat', 'cat', 'dog', 'cat', 'dog', 'cat', 'cat', 'dog', 'dog', 'dog', 'dog', 'dog', 'dog', 'dog', 'cat', 'cat', 'cat', 'dog', 'dog', 'cat', 'dog', 'dog', 'dog', 'cat', 'dog', 'cat', 'dog', 'dog', 'cat', 'cat', 'cat', 'dog', 'cat', 'cat', 'dog', 'dog', 'dog', 'dog', 'dog', 'cat', 'cat', 'cat', 'dog', 'cat', 'cat', 'cat', 'dog', 'cat', 'dog', 'dog', 'cat', 'dog', 'cat', 'dog', 'dog', 'cat', 'dog', 'cat', 'dog', 'cat', 'dog', 'cat', 'cat', 'cat', 'cat', 'cat', 'cat', 'cat', 'dog', 'cat', 'dog', 'cat', 'dog', 'cat', 'cat', 'cat', 'cat', 'cat', 'dog', 'dog', 'dog', 'dog', 'cat', 'cat', 'cat', 'dog', 'dog', 'cat', 'dog', 'dog', 'dog', 'dog', 'cat', 'cat', 'dog', 'dog', 'cat', 'cat', 'dog', 'dog', 'cat', 'cat', 'cat', 'cat', 'dog', 'dog', 'cat', 'cat', 'dog', 'dog', 'dog', 'dog', 'cat', 'cat', 'dog', 'cat', 'cat', 'cat', 'cat', 'dog', 'cat', 'dog', 'cat', 'dog', 'cat', 'cat', 'cat', 'dog', 'dog', 'cat', 'dog', 'cat', 'dog', 'dog', 'cat', 'dog', 'dog', 'dog', 'dog', 'dog', 'dog', 'dog', 'cat', 'dog', 'cat', 'dog', 'dog', 'cat', 'cat', 'dog', 'cat', 'dog', 'cat', 'cat', 'dog', 'dog', 'dog', 'cat', 'cat', 'dog', 'dog', 'cat', 'cat', 'cat', 'cat', 'dog', 'cat', 'dog', 'dog', 'dog', 'dog', 'dog', 'dog', 'dog', 'cat', 'cat', 'cat', 'dog', 'dog', 'cat', 'cat', 'cat', 'dog', 'dog', 'dog', 'cat', 'cat', 'cat', 'dog', 'dog', 'cat', 'cat', 'dog', 'cat', 'dog', 'dog', 'cat', 'dog', 'cat', 'cat', 'dog', 'cat', 'dog', 'dog', 'cat', 'dog', 'dog', 'dog', 'cat', 'cat', 'cat', 'cat', 'dog', 'dog', 'dog', 'dog', 'dog', 'dog', 'cat', 'dog', 'dog', 'cat', 'dog', 'cat', 'dog', 'dog', 'dog', 'dog', 'cat', 'dog', 'dog', 'cat', 'cat', 'cat', 'cat', 'cat', 'dog', 'dog', 'cat', 'dog', 'cat', 'dog', 'dog', 'dog', 'dog', 'cat', 'cat', 'cat', 'dog', 'dog', 'dog', 'cat', 'cat', 'dog', 'cat', 'dog', 'dog', 'dog', 'dog', 'dog', 'dog', 'dog', 'cat', 'cat', 'cat', 'cat', 'cat', 'cat', 'dog', 'dog', 'cat', 'cat', 'dog', 'cat', 'dog', 'dog', 'cat', 'cat', 'dog', 'dog', 'dog', 'dog', 'dog', 'cat', 'cat', 'dog', 'cat', 'dog', 'cat', 'cat', 'cat', 'cat', 'cat', 'cat', 'cat', 'cat', 'cat', 'cat', 'dog', 'cat', 'dog', 'cat', 'cat', 'dog', 'dog', 'cat', 'cat', 'cat', 'cat', 'dog', 'dog', 'dog', 'cat', 'dog', 'dog', 'cat', 'cat', 'dog', 'dog', 'dog', 'cat', 'dog', 'cat', 'dog', 'cat', 'cat', 'cat', 'dog', 'cat', 'dog', 'dog', 'dog', 'dog', 'dog', 'cat', 'dog', 'dog', 'dog', 'cat', 'cat', 'dog', 'cat', 'cat', 'dog', 'dog', 'dog', 'dog', 'cat', 'cat', 'cat', 'dog', 'cat', 'dog', 'cat', 'dog', 'cat', 'dog', 'cat', 'dog', 'dog', 'dog', 'dog', 'dog', 'dog', 'dog', 'cat', 'dog', 'dog', 'dog', 'dog', 'dog', 'dog', 'dog', 'dog', 'cat', 'dog', 'cat', 'cat', 'dog', 'cat', 'cat', 'cat', 'cat', 'cat', 'cat', 'dog', 'cat', 'dog', 'dog', 'dog', 'dog', 'cat', 'dog', 'dog', 'dog', 'cat', 'dog', 'cat', 'dog', 'cat', 'dog', 'dog', 'cat', 'dog', 'cat', 'cat', 'dog', 'cat', 'cat', 'cat', 'dog', 'dog', 'dog', 'dog', 'cat', 'cat', 'cat', 'cat', 'cat', 'dog', 'cat', 'cat', 'cat', 'dog', 'dog', 'dog', 'dog', 'cat', 'cat', 'cat', 'cat', 'dog', 'cat', 'cat', 'cat', 'cat', 'cat', 'cat', 'dog', 'cat', 'dog', 'cat', 'dog', 'dog', 'cat', 'cat', 'cat', 'cat', 'cat', 'dog', 'dog', 'dog', 'dog', 'dog', 'cat', 'dog', 'dog', 'dog', 'cat', 'cat', 'dog', 'cat', 'cat', 'cat', 'cat', 'dog', 'cat', 'cat', 'dog', 'dog', 'dog', 'dog', 'cat', 'cat', 'dog', 'dog', 'cat', 'dog', 'cat', 'dog', 'dog', 'dog', 'dog', 'dog', 'cat', 'dog', 'cat', 'dog', 'dog', 'dog', 'dog', 'cat', 'cat', 'dog', 'dog', 'dog', 'dog', 'cat', 'cat', 'dog', 'cat', 'dog', 'dog', 'cat', 'cat', 'dog', 'dog', 'cat', 'dog', 'cat', 'dog', 'cat', 'cat', 'cat', 'cat', 'cat', 'cat', 'dog', 'cat', 'dog', 'dog', 'cat', 'cat', 'dog', 'cat', 'dog', 'cat', 'dog', 'dog', 'dog', 'cat', 'cat', 'cat', 'cat', 'cat', 'dog', 'cat', 'cat', 'cat', 'cat', 'dog', 'cat', 'dog', 'cat', 'cat', 'dog', 'cat', 'dog', 'cat', 'dog', 'dog', 'dog', 'cat', 'cat', 'dog', 'cat', 'dog', 'dog', 'dog', 'dog', 'cat', 'cat', 'cat', 'dog', 'dog', 'dog', 'dog', 'dog', 'dog', 'dog', 'cat', 'cat', 'cat', 'cat', 'dog', 'cat', 'dog', 'cat', 'dog', 'cat', 'dog', 'dog', 'dog', 'dog', 'dog', 'cat', 'dog', 'dog', 'dog', 'cat', 'cat', 'dog', 'cat', 'cat', 'dog', 'cat', 'cat', 'dog', 'dog', 'dog', 'cat', 'cat', 'cat', 'cat', 'dog', 'cat', 'cat', 'dog', 'dog', 'cat', 'cat', 'cat', 'dog', 'dog', 'cat', 'cat', 'dog', 'dog', 'cat', 'cat', 'cat', 'dog', 'dog', 'cat', 'dog', 'dog', 'cat', 'cat', 'cat', 'dog', 'cat', 'dog', 'dog', 'cat', 'cat', 'dog', 'cat', 'cat', 'cat', 'dog', 'cat', 'dog', 'cat', 'dog', 'dog', 'cat', 'cat', 'dog', 'dog', 'cat', 'dog', 'dog', 'dog', 'dog', 'dog', 'dog', 'cat', 'cat', 'cat', 'dog', 'dog', 'cat', 'cat', 'cat', 'dog', 'dog', 'cat', 'dog', 'dog', 'cat', 'dog', 'cat', 'dog', 'cat', 'dog', 'cat', 'dog', 'cat', 'cat', 'dog', 'cat', 'dog', 'cat', 'cat', 'cat', 'dog', 'dog', 'cat', 'dog', 'dog', 'cat', 'cat', 'cat', 'dog', 'cat', 'dog', 'cat', 'dog', 'dog', 'cat', 'dog', 'cat', 'dog', 'cat', 'dog', 'cat', 'dog', 'cat', 'dog', 'dog', 'dog', 'dog', 'dog', 'cat', 'dog', 'dog', 'dog', 'dog', 'cat', 'dog', 'cat', 'cat', 'cat', 'cat', 'cat', 'cat', 'cat', 'cat', 'cat', 'dog', 'cat', 'cat', 'dog', 'dog', 'cat', 'cat', 'dog', 'cat', 'dog', 'cat', 'dog', 'dog', 'cat', 'cat', 'cat', 'cat', 'cat', 'cat', 'cat', 'cat', 'dog', 'dog', 'dog', 'cat', 'dog', 'cat', 'cat', 'dog', 'dog', 'cat', 'cat', 'cat', 'dog', 'cat', 'dog', 'cat', 'cat', 'cat', 'cat', 'dog', 'cat', 'cat', 'dog', 'dog', 'dog', 'cat', 'dog', 'cat', 'cat', 'dog', 'cat', 'dog', 'dog', 'dog', 'cat', 'cat', 'cat', 'dog', 'dog', 'cat', 'dog', 'cat', 'dog', 'dog', 'dog', 'dog', 'cat', 'dog', 'dog', 'cat', 'cat', 'cat', 'cat', 'cat', 'cat', 'cat', 'cat', 'dog', 'cat', 'cat', 'cat', 'dog', 'dog', 'dog', 'dog', 'cat', 'dog', 'cat', 'cat', 'dog', 'dog', 'cat', 'cat', 'dog', 'cat', 'cat', 'cat', 'cat', 'cat', 'dog', 'dog', 'dog', 'cat', 'cat', 'cat', 'cat', 'cat', 'cat', 'dog', 'dog', 'cat', 'cat', 'dog', 'cat', 'cat', 'cat', 'dog', 'dog', 'cat', 'cat', 'dog', 'dog', 'dog', 'cat', 'dog', 'cat', 'cat', 'cat', 'dog', 'cat', 'dog', 'dog', 'cat', 'cat', 'cat', 'dog', 'dog', 'dog', 'cat', 'dog', 'cat', 'cat', 'dog', 'dog', 'dog', 'dog', 'dog', 'dog', 'dog', 'cat', 'dog', 'dog', 'dog', 'dog', 'cat', 'dog', 'cat', 'dog', 'cat', 'dog', 'dog', 'cat', 'dog', 'dog', 'dog', 'cat', 'dog', 'dog', 'cat', 'dog', 'dog', 'cat', 'cat', 'cat', 'cat', 'dog', 'cat', 'cat', 'dog', 'cat', 'dog', 'dog', 'cat', 'dog', 'cat', 'dog', 'dog', 'cat', 'cat', 'cat', 'cat', 'cat', 'dog', 'dog', 'dog', 'cat', 'cat', 'cat', 'cat', 'cat', 'cat', 'cat', 'dog', 'cat', 'dog', 'dog', 'dog', 'dog', 'cat', 'cat', 'dog', 'dog', 'dog', 'cat', 'dog', 'cat', 'dog', 'dog', 'cat', 'cat', 'cat', 'cat', 'dog', 'cat', 'dog', 'cat', 'dog', 'dog', 'dog', 'dog', 'dog', 'cat', 'dog', 'cat', 'cat', 'cat', 'cat', 'dog', 'dog', 'cat', 'cat', 'dog', 'cat', 'cat']\n"
          ]
        }
      ],
      "source": [
        "print(filenames)\n",
        "print(categories)"
      ]
    },
    {
      "cell_type": "code",
      "execution_count": 17,
      "metadata": {
        "id": "on_Mdoz-I4X6"
      },
      "outputs": [],
      "source": [
        "from sklearn.model_selection import train_test_split\n",
        "train_df, test_df = train_test_split(df, test_size=0.15, random_state=42)\n",
        "#split train in train-valid\n",
        "trainVal_df, test_Valdf = train_test_split(train_df, test_size=0.15, random_state=42)\n",
        "\n"
      ]
    },
    {
      "cell_type": "code",
      "execution_count": 18,
      "metadata": {
        "id": "R5SCwMThYHWb"
      },
      "outputs": [],
      "source": [
        "from keras_preprocessing.image import ImageDataGenerator\n",
        "\n",
        "datagen= ImageDataGenerator(\n",
        "    horizontal_flip=True,\n",
        "    # vertical_flip=True,\n",
        "    # rotation_range=90,\n",
        "    # width_shift_range=0.1,\n",
        "    # height_shift_range=0.1,\n",
        "    # zoom_range=.1,\n",
        "    rescale=1/255,\n",
        "    fill_mode='nearest',\n",
        "    # shear_range=0.1,\n",
        "    # brightness_range=[0.8, 1.2]\n",
        "    )\n",
        "   \n",
        "    \n",
        "    "
      ]
    },
    {
      "cell_type": "code",
      "execution_count": 19,
      "metadata": {
        "colab": {
          "base_uri": "https://localhost:8080/"
        },
        "id": "0ujQNiLAbv87",
        "outputId": "abaae55a-20d0-49c0-8ec7-9b7eb73c2a7a"
      },
      "outputs": [
        {
          "output_type": "execute_result",
          "data": {
            "text/plain": [
              "(878, 155)"
            ]
          },
          "metadata": {},
          "execution_count": 19
        }
      ],
      "source": [
        "len(train_df),len(test_df)"
      ]
    },
    {
      "cell_type": "code",
      "execution_count": 20,
      "metadata": {
        "colab": {
          "base_uri": "https://localhost:8080/",
          "height": 424
        },
        "id": "upcDaCTScVGp",
        "outputId": "22731fd2-b87b-4169-fd8b-4d0dca78379e"
      },
      "outputs": [
        {
          "output_type": "execute_result",
          "data": {
            "text/plain": [
              "         filename category\n",
              "535    cat.39.jpg      cat\n",
              "956  dog.2824.jpg      dog\n",
              "323    cat.61.jpg      cat\n",
              "882   dog.491.jpg      dog\n",
              "890   dog.398.jpg      dog\n",
              "..            ...      ...\n",
              "87    cat.501.jpg      cat\n",
              "330   cat.324.jpg      cat\n",
              "466   cat.345.jpg      cat\n",
              "121   cat.352.jpg      cat\n",
              "860   cat.403.jpg      cat\n",
              "\n",
              "[878 rows x 2 columns]"
            ],
            "text/html": [
              "\n",
              "  <div id=\"df-5929aa65-e28d-4d9e-8ac8-89c1d1f93360\">\n",
              "    <div class=\"colab-df-container\">\n",
              "      <div>\n",
              "<style scoped>\n",
              "    .dataframe tbody tr th:only-of-type {\n",
              "        vertical-align: middle;\n",
              "    }\n",
              "\n",
              "    .dataframe tbody tr th {\n",
              "        vertical-align: top;\n",
              "    }\n",
              "\n",
              "    .dataframe thead th {\n",
              "        text-align: right;\n",
              "    }\n",
              "</style>\n",
              "<table border=\"1\" class=\"dataframe\">\n",
              "  <thead>\n",
              "    <tr style=\"text-align: right;\">\n",
              "      <th></th>\n",
              "      <th>filename</th>\n",
              "      <th>category</th>\n",
              "    </tr>\n",
              "  </thead>\n",
              "  <tbody>\n",
              "    <tr>\n",
              "      <th>535</th>\n",
              "      <td>cat.39.jpg</td>\n",
              "      <td>cat</td>\n",
              "    </tr>\n",
              "    <tr>\n",
              "      <th>956</th>\n",
              "      <td>dog.2824.jpg</td>\n",
              "      <td>dog</td>\n",
              "    </tr>\n",
              "    <tr>\n",
              "      <th>323</th>\n",
              "      <td>cat.61.jpg</td>\n",
              "      <td>cat</td>\n",
              "    </tr>\n",
              "    <tr>\n",
              "      <th>882</th>\n",
              "      <td>dog.491.jpg</td>\n",
              "      <td>dog</td>\n",
              "    </tr>\n",
              "    <tr>\n",
              "      <th>890</th>\n",
              "      <td>dog.398.jpg</td>\n",
              "      <td>dog</td>\n",
              "    </tr>\n",
              "    <tr>\n",
              "      <th>...</th>\n",
              "      <td>...</td>\n",
              "      <td>...</td>\n",
              "    </tr>\n",
              "    <tr>\n",
              "      <th>87</th>\n",
              "      <td>cat.501.jpg</td>\n",
              "      <td>cat</td>\n",
              "    </tr>\n",
              "    <tr>\n",
              "      <th>330</th>\n",
              "      <td>cat.324.jpg</td>\n",
              "      <td>cat</td>\n",
              "    </tr>\n",
              "    <tr>\n",
              "      <th>466</th>\n",
              "      <td>cat.345.jpg</td>\n",
              "      <td>cat</td>\n",
              "    </tr>\n",
              "    <tr>\n",
              "      <th>121</th>\n",
              "      <td>cat.352.jpg</td>\n",
              "      <td>cat</td>\n",
              "    </tr>\n",
              "    <tr>\n",
              "      <th>860</th>\n",
              "      <td>cat.403.jpg</td>\n",
              "      <td>cat</td>\n",
              "    </tr>\n",
              "  </tbody>\n",
              "</table>\n",
              "<p>878 rows × 2 columns</p>\n",
              "</div>\n",
              "      <button class=\"colab-df-convert\" onclick=\"convertToInteractive('df-5929aa65-e28d-4d9e-8ac8-89c1d1f93360')\"\n",
              "              title=\"Convert this dataframe to an interactive table.\"\n",
              "              style=\"display:none;\">\n",
              "        \n",
              "  <svg xmlns=\"http://www.w3.org/2000/svg\" height=\"24px\"viewBox=\"0 0 24 24\"\n",
              "       width=\"24px\">\n",
              "    <path d=\"M0 0h24v24H0V0z\" fill=\"none\"/>\n",
              "    <path d=\"M18.56 5.44l.94 2.06.94-2.06 2.06-.94-2.06-.94-.94-2.06-.94 2.06-2.06.94zm-11 1L8.5 8.5l.94-2.06 2.06-.94-2.06-.94L8.5 2.5l-.94 2.06-2.06.94zm10 10l.94 2.06.94-2.06 2.06-.94-2.06-.94-.94-2.06-.94 2.06-2.06.94z\"/><path d=\"M17.41 7.96l-1.37-1.37c-.4-.4-.92-.59-1.43-.59-.52 0-1.04.2-1.43.59L10.3 9.45l-7.72 7.72c-.78.78-.78 2.05 0 2.83L4 21.41c.39.39.9.59 1.41.59.51 0 1.02-.2 1.41-.59l7.78-7.78 2.81-2.81c.8-.78.8-2.07 0-2.86zM5.41 20L4 18.59l7.72-7.72 1.47 1.35L5.41 20z\"/>\n",
              "  </svg>\n",
              "      </button>\n",
              "      \n",
              "  <style>\n",
              "    .colab-df-container {\n",
              "      display:flex;\n",
              "      flex-wrap:wrap;\n",
              "      gap: 12px;\n",
              "    }\n",
              "\n",
              "    .colab-df-convert {\n",
              "      background-color: #E8F0FE;\n",
              "      border: none;\n",
              "      border-radius: 50%;\n",
              "      cursor: pointer;\n",
              "      display: none;\n",
              "      fill: #1967D2;\n",
              "      height: 32px;\n",
              "      padding: 0 0 0 0;\n",
              "      width: 32px;\n",
              "    }\n",
              "\n",
              "    .colab-df-convert:hover {\n",
              "      background-color: #E2EBFA;\n",
              "      box-shadow: 0px 1px 2px rgba(60, 64, 67, 0.3), 0px 1px 3px 1px rgba(60, 64, 67, 0.15);\n",
              "      fill: #174EA6;\n",
              "    }\n",
              "\n",
              "    [theme=dark] .colab-df-convert {\n",
              "      background-color: #3B4455;\n",
              "      fill: #D2E3FC;\n",
              "    }\n",
              "\n",
              "    [theme=dark] .colab-df-convert:hover {\n",
              "      background-color: #434B5C;\n",
              "      box-shadow: 0px 1px 3px 1px rgba(0, 0, 0, 0.15);\n",
              "      filter: drop-shadow(0px 1px 2px rgba(0, 0, 0, 0.3));\n",
              "      fill: #FFFFFF;\n",
              "    }\n",
              "  </style>\n",
              "\n",
              "      <script>\n",
              "        const buttonEl =\n",
              "          document.querySelector('#df-5929aa65-e28d-4d9e-8ac8-89c1d1f93360 button.colab-df-convert');\n",
              "        buttonEl.style.display =\n",
              "          google.colab.kernel.accessAllowed ? 'block' : 'none';\n",
              "\n",
              "        async function convertToInteractive(key) {\n",
              "          const element = document.querySelector('#df-5929aa65-e28d-4d9e-8ac8-89c1d1f93360');\n",
              "          const dataTable =\n",
              "            await google.colab.kernel.invokeFunction('convertToInteractive',\n",
              "                                                     [key], {});\n",
              "          if (!dataTable) return;\n",
              "\n",
              "          const docLinkHtml = 'Like what you see? Visit the ' +\n",
              "            '<a target=\"_blank\" href=https://colab.research.google.com/notebooks/data_table.ipynb>data table notebook</a>'\n",
              "            + ' to learn more about interactive tables.';\n",
              "          element.innerHTML = '';\n",
              "          dataTable['output_type'] = 'display_data';\n",
              "          await google.colab.output.renderOutput(dataTable, element);\n",
              "          const docLink = document.createElement('div');\n",
              "          docLink.innerHTML = docLinkHtml;\n",
              "          element.appendChild(docLink);\n",
              "        }\n",
              "      </script>\n",
              "    </div>\n",
              "  </div>\n",
              "  "
            ]
          },
          "metadata": {},
          "execution_count": 20
        }
      ],
      "source": [
        "train_df"
      ]
    },
    {
      "cell_type": "markdown",
      "metadata": {
        "id": "SDiWO6QTYO5W"
      },
      "source": [
        "data augmentation"
      ]
    },
    {
      "cell_type": "code",
      "execution_count": 21,
      "metadata": {
        "colab": {
          "base_uri": "https://localhost:8080/"
        },
        "id": "lfA9E8J-Yx-t",
        "outputId": "f16ef523-0aa2-4d12-865f-fce8aead06c9"
      },
      "outputs": [
        {
          "output_type": "stream",
          "name": "stdout",
          "text": [
            "Found 878 validated image filenames belonging to 2 classes.\n"
          ]
        }
      ],
      "source": [
        "train_generator = datagen.flow_from_dataframe(dataframe=train_df,directory='/content/dataset',\n",
        "    x_col=\"filename\",\n",
        "    y_col=\"category\",\n",
        "    target_size=image_shape[0:2],\n",
        "    batch_size=32,\n",
        "    class_mode='categorical',\n",
        "    shuffle=True)"
      ]
    },
    {
      "cell_type": "code",
      "execution_count": 22,
      "metadata": {
        "colab": {
          "base_uri": "https://localhost:8080/"
        },
        "id": "Scld1dqR-2zJ",
        "outputId": "bf2dc568-2d15-4894-fc73-fa0edf68c7d5"
      },
      "outputs": [
        {
          "output_type": "stream",
          "name": "stdout",
          "text": [
            "Found 746 validated image filenames belonging to 2 classes.\n"
          ]
        }
      ],
      "source": [
        "val_generator = datagen.flow_from_dataframe(dataframe=trainVal_df,directory='/content/dataset',\n",
        "    x_col=\"filename\",\n",
        "    y_col=\"category\",\n",
        "    target_size=image_shape[0:2],\n",
        "    batch_size=32,\n",
        "    class_mode='categorical'\n",
        "    )"
      ]
    },
    {
      "cell_type": "code",
      "execution_count": 23,
      "metadata": {
        "colab": {
          "base_uri": "https://localhost:8080/"
        },
        "id": "BMybWcHg_GtT",
        "outputId": "4d92bc97-4673-4f38-a535-dd1b59982648"
      },
      "outputs": [
        {
          "output_type": "stream",
          "name": "stdout",
          "text": [
            "Found 155 validated image filenames belonging to 2 classes.\n"
          ]
        }
      ],
      "source": [
        "test_generator = datagen.flow_from_dataframe(dataframe=test_df,directory='/content/dataset',\n",
        "    x_col=\"filename\",\n",
        "    y_col=\"category\",\n",
        "    target_size=image_shape[0:2],\n",
        "    batch_size=32,\n",
        "    class_mode='categorical',\n",
        "    shuffle=False\n",
        "    )"
      ]
    },
    {
      "cell_type": "markdown",
      "metadata": {
        "id": "TvEi500ipLbZ"
      },
      "source": [
        "Model"
      ]
    },
    {
      "cell_type": "code",
      "execution_count": 24,
      "metadata": {
        "colab": {
          "base_uri": "https://localhost:8080/"
        },
        "id": "O6OUoG93pq6V",
        "outputId": "8c07c7e5-2614-43ec-850d-d3979745f42d"
      },
      "outputs": [
        {
          "output_type": "stream",
          "name": "stdout",
          "text": [
            "Downloading data from https://storage.googleapis.com/tensorflow/keras-applications/vgg16/vgg16_weights_tf_dim_ordering_tf_kernels_notop.h5\n",
            "58889256/58889256 [==============================] - 2s 0us/step\n",
            "<keras.engine.input_layer.InputLayer object at 0x7f20a2e077f0> False\n",
            "<keras.layers.convolutional.conv2d.Conv2D object at 0x7f20a32b97c0> False\n",
            "<keras.layers.convolutional.conv2d.Conv2D object at 0x7f20a33ea190> False\n",
            "<keras.layers.pooling.max_pooling2d.MaxPooling2D object at 0x7f20a2d72d90> False\n",
            "<keras.layers.convolutional.conv2d.Conv2D object at 0x7f20a2d72fa0> False\n",
            "<keras.layers.convolutional.conv2d.Conv2D object at 0x7f2093c37040> False\n",
            "<keras.layers.pooling.max_pooling2d.MaxPooling2D object at 0x7f20a2d72d00> False\n",
            "<keras.layers.convolutional.conv2d.Conv2D object at 0x7f2093c3faf0> False\n",
            "<keras.layers.convolutional.conv2d.Conv2D object at 0x7f2093c37eb0> False\n",
            "<keras.layers.convolutional.conv2d.Conv2D object at 0x7f2093c47b80> False\n",
            "<keras.layers.pooling.max_pooling2d.MaxPooling2D object at 0x7f2093c3ff10> False\n",
            "<keras.layers.convolutional.conv2d.Conv2D object at 0x7f2093c37f70> False\n",
            "<keras.layers.convolutional.conv2d.Conv2D object at 0x7f2093c47610> False\n",
            "<keras.layers.convolutional.conv2d.Conv2D object at 0x7f20901d5340> False\n",
            "<keras.layers.pooling.max_pooling2d.MaxPooling2D object at 0x7f20901c5d00> False\n",
            "<keras.layers.convolutional.conv2d.Conv2D object at 0x7f2093c37d60> False\n",
            "<keras.layers.convolutional.conv2d.Conv2D object at 0x7f20901dd340> False\n",
            "<keras.layers.convolutional.conv2d.Conv2D object at 0x7f20901e5f40> False\n",
            "<keras.layers.pooling.max_pooling2d.MaxPooling2D object at 0x7f2093c472b0> False\n"
          ]
        }
      ],
      "source": [
        "from keras.applications.vgg16 import VGG16\n",
        "from keras import models\n",
        "from keras import layers, Sequential,Model\n",
        "from keras import optimizers\n",
        "\n",
        "vgg_conv = VGG16(weights='imagenet', include_top=False, input_shape=(224, 224, 3))\n",
        "\n",
        "#Freeze the layers \n",
        "for layer in vgg_conv.layers:\n",
        "    layer.trainable = False\n",
        "\n",
        "# Check the trainable status of the individual layers\n",
        "for layer in vgg_conv.layers:\n",
        "    print(layer, layer.trainable)"
      ]
    },
    {
      "cell_type": "code",
      "execution_count": 25,
      "metadata": {
        "id": "9AdRQgWapDQw"
      },
      "outputs": [],
      "source": [
        "model = Sequential() #A Sequential model is appropriate for a plain stack of layers where each layer has exactly one input tensor and one output tensor.\n",
        "model.add(vgg_conv)\n",
        "          \n",
        "# Add new layers\n",
        "model.add(layers.Flatten())\n",
        "model.add(layers.Dense(1024, activation='relu'))\n",
        "model.add(layers.Dropout(0.5))\n",
        "model.add(layers.Dense(512, activation='relu'))\n",
        "model.add(layers.Dropout(0.5))\n",
        "model.add(layers.Dense(2, activation='softmax'))\n",
        "\n",
        "\n",
        "\n",
        "\n",
        "\n"
      ]
    },
    {
      "cell_type": "code",
      "execution_count": 26,
      "metadata": {
        "colab": {
          "base_uri": "https://localhost:8080/"
        },
        "id": "mLi-diYip-EC",
        "outputId": "782fb233-76df-4859-96ac-6433925cae73"
      },
      "outputs": [
        {
          "output_type": "stream",
          "name": "stdout",
          "text": [
            "Model: \"sequential\"\n",
            "_________________________________________________________________\n",
            " Layer (type)                Output Shape              Param #   \n",
            "=================================================================\n",
            " vgg16 (Functional)          (None, 7, 7, 512)         14714688  \n",
            "                                                                 \n",
            " flatten (Flatten)           (None, 25088)             0         \n",
            "                                                                 \n",
            " dense (Dense)               (None, 1024)              25691136  \n",
            "                                                                 \n",
            " dropout (Dropout)           (None, 1024)              0         \n",
            "                                                                 \n",
            " dense_1 (Dense)             (None, 512)               524800    \n",
            "                                                                 \n",
            " dropout_1 (Dropout)         (None, 512)               0         \n",
            "                                                                 \n",
            " dense_2 (Dense)             (None, 2)                 1026      \n",
            "                                                                 \n",
            "=================================================================\n",
            "Total params: 40,931,650\n",
            "Trainable params: 26,216,962\n",
            "Non-trainable params: 14,714,688\n",
            "_________________________________________________________________\n"
          ]
        }
      ],
      "source": [
        "model.summary()"
      ]
    },
    {
      "cell_type": "code",
      "execution_count": 27,
      "metadata": {
        "id": "6ExCHL3WqFDx"
      },
      "outputs": [],
      "source": [
        "model.compile(optimizer='adam', loss='categorical_crossentropy', metrics=['accuracy'])"
      ]
    },
    {
      "cell_type": "code",
      "execution_count": 99,
      "metadata": {
        "colab": {
          "base_uri": "https://localhost:8080/"
        },
        "id": "Rs5LPvuvqT-i",
        "outputId": "4e2055ea-c406-4371-8c61-c638c6a70117"
      },
      "outputs": [
        {
          "output_type": "stream",
          "name": "stdout",
          "text": [
            "Epoch 1/20\n",
            "28/28 [==============================] - 6s 196ms/step - loss: 0.7194 - accuracy: 0.7961 - val_loss: 0.3198 - val_accuracy: 0.8452\n",
            "Epoch 2/20\n",
            "28/28 [==============================] - 5s 191ms/step - loss: 0.2847 - accuracy: 0.8838 - val_loss: 0.3229 - val_accuracy: 0.8645\n",
            "Epoch 3/20\n",
            "28/28 [==============================] - 5s 194ms/step - loss: 0.2649 - accuracy: 0.8929 - val_loss: 0.3997 - val_accuracy: 0.8581\n",
            "Epoch 4/20\n",
            "28/28 [==============================] - 6s 194ms/step - loss: 0.1653 - accuracy: 0.9271 - val_loss: 0.2877 - val_accuracy: 0.8710\n",
            "Epoch 5/20\n",
            "28/28 [==============================] - 6s 197ms/step - loss: 0.1596 - accuracy: 0.9385 - val_loss: 0.2577 - val_accuracy: 0.8839\n",
            "Epoch 6/20\n",
            "28/28 [==============================] - 6s 219ms/step - loss: 0.1425 - accuracy: 0.9476 - val_loss: 0.2690 - val_accuracy: 0.8968\n",
            "Epoch 7/20\n",
            "28/28 [==============================] - 6s 213ms/step - loss: 0.1010 - accuracy: 0.9613 - val_loss: 0.3295 - val_accuracy: 0.8710\n",
            "Epoch 8/20\n",
            "28/28 [==============================] - 7s 242ms/step - loss: 0.1125 - accuracy: 0.9544 - val_loss: 0.2840 - val_accuracy: 0.9097\n",
            "Epoch 9/20\n",
            "28/28 [==============================] - 6s 201ms/step - loss: 0.0821 - accuracy: 0.9692 - val_loss: 0.4453 - val_accuracy: 0.8774\n",
            "Epoch 10/20\n",
            "28/28 [==============================] - 6s 199ms/step - loss: 0.0859 - accuracy: 0.9601 - val_loss: 0.7078 - val_accuracy: 0.8387\n",
            "Epoch 11/20\n",
            "28/28 [==============================] - 6s 197ms/step - loss: 0.0932 - accuracy: 0.9601 - val_loss: 0.3183 - val_accuracy: 0.8968\n",
            "Epoch 12/20\n",
            "28/28 [==============================] - 6s 197ms/step - loss: 0.1454 - accuracy: 0.9396 - val_loss: 0.2884 - val_accuracy: 0.8903\n",
            "Epoch 13/20\n",
            "28/28 [==============================] - 6s 196ms/step - loss: 0.0974 - accuracy: 0.9636 - val_loss: 0.3012 - val_accuracy: 0.9097\n",
            "Epoch 14/20\n",
            "28/28 [==============================] - 6s 196ms/step - loss: 0.0989 - accuracy: 0.9727 - val_loss: 0.3482 - val_accuracy: 0.8968\n",
            "Epoch 15/20\n",
            "28/28 [==============================] - 6s 196ms/step - loss: 0.0864 - accuracy: 0.9624 - val_loss: 0.6869 - val_accuracy: 0.8581\n",
            "Epoch 16/20\n",
            "28/28 [==============================] - 6s 196ms/step - loss: 0.0798 - accuracy: 0.9636 - val_loss: 0.3493 - val_accuracy: 0.9032\n",
            "Epoch 17/20\n",
            "28/28 [==============================] - 6s 197ms/step - loss: 0.0794 - accuracy: 0.9715 - val_loss: 0.3075 - val_accuracy: 0.9032\n",
            "Epoch 18/20\n",
            "28/28 [==============================] - 6s 196ms/step - loss: 0.1573 - accuracy: 0.9442 - val_loss: 0.3875 - val_accuracy: 0.8968\n",
            "Epoch 19/20\n",
            "28/28 [==============================] - 6s 197ms/step - loss: 0.0862 - accuracy: 0.9658 - val_loss: 0.3234 - val_accuracy: 0.8968\n",
            "Epoch 20/20\n",
            "28/28 [==============================] - 6s 225ms/step - loss: 0.0800 - accuracy: 0.9738 - val_loss: 0.2557 - val_accuracy: 0.9097\n"
          ]
        }
      ],
      "source": [
        "results = model.fit(train_generator,epochs=20,\n",
        "                              validation_data=test_generator,verbose=1)"
      ]
    },
    {
      "cell_type": "code",
      "execution_count": 100,
      "metadata": {
        "colab": {
          "base_uri": "https://localhost:8080/",
          "height": 295
        },
        "id": "tyzcXWo5GGa6",
        "outputId": "ccaf0ad5-9659-4f07-cadc-196259d2d872"
      },
      "outputs": [
        {
          "output_type": "display_data",
          "data": {
            "text/plain": [
              "<Figure size 432x288 with 1 Axes>"
            ],
            "image/png": "[encoded data removed]"
          },
          "metadata": {
            "needs_background": "light"
          }
        }
      ],
      "source": [
        "import matplotlib.pyplot as plt\n",
        "plt.plot(results.history['accuracy'])\n",
        "plt.plot(results.history['val_accuracy'])\n",
        "plt.title('cat/dog model accuracy ')\n",
        "plt.ylabel('accuracy')\n",
        "plt.xlabel('epoch')\n",
        "plt.legend(['train', 'test'], loc='upper left')\n",
        "plt.show()"
      ]
    },
    {
      "cell_type": "code",
      "execution_count": 101,
      "metadata": {
        "id": "UizVqt2RGRRc",
        "colab": {
          "base_uri": "https://localhost:8080/",
          "height": 295
        },
        "outputId": "49c9bc55-7bcd-44a8-90ac-3757c2d09aec"
      },
      "outputs": [
        {
          "output_type": "display_data",
          "data": {
            "text/plain": [
              "<Figure size 432x288 with 1 Axes>"
            ],
            "image/png": "[encoded data removed]"
          },
          "metadata": {
            "needs_background": "light"
          }
        }
      ],
      "source": [
        "import matplotlib.pyplot as plt\n",
        "plt.plot(results.history['loss'])\n",
        "plt.plot(results.history['val_loss'])\n",
        "plt.title('Cat/Dog model loss ')\n",
        "plt.ylabel('loss')\n",
        "plt.xlabel('epoch')\n",
        "plt.legend(['train', 'test'], loc='upper left')\n",
        "plt.show()"
      ]
    },
    {
      "cell_type": "code",
      "execution_count": 102,
      "metadata": {
        "id": "Vg1dBsI9quW4",
        "colab": {
          "base_uri": "https://localhost:8080/"
        },
        "outputId": "7ac63ff1-0c79-49ce-8a93-d3eab34cfe47"
      },
      "outputs": [
        {
          "output_type": "stream",
          "name": "stdout",
          "text": [
            "5/5 [==============================] - 1s 158ms/step - loss: 0.2663 - accuracy: 0.9032\n"
          ]
        },
        {
          "output_type": "execute_result",
          "data": {
            "text/plain": [
              "[0.26629215478897095, 0.9032257795333862]"
            ]
          },
          "metadata": {},
          "execution_count": 102
        }
      ],
      "source": [
        "model.evaluate(test_generator)"
      ]
    },
    {
      "cell_type": "code",
      "execution_count": 103,
      "metadata": {
        "id": "CuLIrOJGrCca",
        "colab": {
          "base_uri": "https://localhost:8080/"
        },
        "outputId": "a0a9083a-61ae-44c4-bf22-a48d4e84ae28"
      },
      "outputs": [
        {
          "output_type": "stream",
          "name": "stdout",
          "text": [
            "24/24 [==============================] - 4s 159ms/step - loss: 0.0193 - accuracy: 0.9973\n"
          ]
        },
        {
          "output_type": "execute_result",
          "data": {
            "text/plain": [
              "[0.01928907260298729, 0.9973190426826477]"
            ]
          },
          "metadata": {},
          "execution_count": 103
        }
      ],
      "source": [
        "model.evaluate(val_generator)"
      ]
    },
    {
      "cell_type": "code",
      "execution_count": 104,
      "metadata": {
        "id": "VIP__zU_Gbz1",
        "colab": {
          "base_uri": "https://localhost:8080/"
        },
        "outputId": "c3334f55-8815-4f04-87be-b2b631e9e2e4"
      },
      "outputs": [
        {
          "output_type": "stream",
          "name": "stdout",
          "text": [
            "mkdir: cannot create directory ‘results’: File exists\n"
          ]
        }
      ],
      "source": [
        "!mkdir results"
      ]
    },
    {
      "cell_type": "code",
      "execution_count": 105,
      "metadata": {
        "id": "AbCR9BKvGmMH"
      },
      "outputs": [],
      "source": [
        "# to save model and weights\n",
        "\n",
        "model_json = model.to_json()\n",
        "with open(\"results/model.json\", \"w\") as json_file:\n",
        "    json_file.write(model_json)\n",
        "model.save_weights('results/model_weights.h5')"
      ]
    },
    {
      "cell_type": "code",
      "execution_count": 106,
      "metadata": {
        "id": "N3fpd-AgMs79"
      },
      "outputs": [],
      "source": [
        "#y_test[0:10],y_pred[0:10]"
      ]
    },
    {
      "cell_type": "code",
      "execution_count": 107,
      "metadata": {
        "id": "ZJa_R8n-GsHB",
        "colab": {
          "base_uri": "https://localhost:8080/"
        },
        "outputId": "d660f33d-eb75-4999-fd0e-cd2b9a0a8f14"
      },
      "outputs": [
        {
          "output_type": "stream",
          "name": "stdout",
          "text": [
            "5/5 [==============================] - 1s 155ms/step\n"
          ]
        }
      ],
      "source": [
        "y_score=model.predict(test_generator)\n",
        "\n"
      ]
    },
    {
      "cell_type": "code",
      "execution_count": 108,
      "metadata": {
        "id": "AD-n6OviG69a",
        "colab": {
          "base_uri": "https://localhost:8080/"
        },
        "outputId": "2b35578c-36a6-43dc-b820-e35820f525e7"
      },
      "outputs": [
        {
          "output_type": "execute_result",
          "data": {
            "text/plain": [
              "[0, 1]"
            ]
          },
          "metadata": {},
          "execution_count": 108
        }
      ],
      "source": [
        "class_names=list(test_generator.class_indices.values())\n",
        "class_names"
      ]
    },
    {
      "cell_type": "code",
      "execution_count": 109,
      "metadata": {
        "id": "LZjic1-nloGe",
        "colab": {
          "base_uri": "https://localhost:8080/"
        },
        "outputId": "aa4bc364-eec9-4afc-ddf4-aad2fa5820c4"
      },
      "outputs": [
        {
          "output_type": "stream",
          "name": "stdout",
          "text": [
            "(155, 2)\n"
          ]
        }
      ],
      "source": [
        "print(y_score.shape)\n",
        "y_pred=np.argmax(y_score,axis=1)#return col which has max value\n",
        "y_test=test_generator.classes#axis 0=rows and axis 1=col\n"
      ]
    },
    {
      "cell_type": "code",
      "execution_count": 110,
      "metadata": {
        "id": "4I1e-x3IHD8J",
        "colab": {
          "base_uri": "https://localhost:8080/"
        },
        "outputId": "e6c47d28-0b3c-42f3-cca4-dd1821887ba9"
      },
      "outputs": [
        {
          "output_type": "execute_result",
          "data": {
            "text/plain": [
              "(array([0, 1]), array([73, 82]))"
            ]
          },
          "metadata": {},
          "execution_count": 110
        }
      ],
      "source": [
        "np.unique(y_pred,return_counts=True)"
      ]
    },
    {
      "cell_type": "code",
      "execution_count": 111,
      "metadata": {
        "id": "8G4BidKereeq",
        "colab": {
          "base_uri": "https://localhost:8080/"
        },
        "outputId": "4498d4e0-3277-4795-935c-bece69d0775e"
      },
      "outputs": [
        {
          "output_type": "execute_result",
          "data": {
            "text/plain": [
              "[0,\n",
              " 1,\n",
              " 0,\n",
              " 1,\n",
              " 1,\n",
              " 0,\n",
              " 0,\n",
              " 1,\n",
              " 1,\n",
              " 1,\n",
              " 1,\n",
              " 0,\n",
              " 0,\n",
              " 1,\n",
              " 1,\n",
              " 1,\n",
              " 1,\n",
              " 1,\n",
              " 1,\n",
              " 0,\n",
              " 1,\n",
              " 0,\n",
              " 0,\n",
              " 1,\n",
              " 0,\n",
              " 1,\n",
              " 0,\n",
              " 1,\n",
              " 1,\n",
              " 0,\n",
              " 0,\n",
              " 1,\n",
              " 1,\n",
              " 0,\n",
              " 0,\n",
              " 0,\n",
              " 0,\n",
              " 0,\n",
              " 1,\n",
              " 1,\n",
              " 0,\n",
              " 1,\n",
              " 1,\n",
              " 1,\n",
              " 1,\n",
              " 1,\n",
              " 0,\n",
              " 1,\n",
              " 0,\n",
              " 1,\n",
              " 0,\n",
              " 0,\n",
              " 0,\n",
              " 1,\n",
              " 1,\n",
              " 1,\n",
              " 0,\n",
              " 0,\n",
              " 0,\n",
              " 1,\n",
              " 1,\n",
              " 1,\n",
              " 1,\n",
              " 1,\n",
              " 1,\n",
              " 0,\n",
              " 1,\n",
              " 1,\n",
              " 1,\n",
              " 1,\n",
              " 1,\n",
              " 0,\n",
              " 1,\n",
              " 1,\n",
              " 1,\n",
              " 0,\n",
              " 1,\n",
              " 0,\n",
              " 1,\n",
              " 0,\n",
              " 1,\n",
              " 1,\n",
              " 0,\n",
              " 1,\n",
              " 1,\n",
              " 0,\n",
              " 0,\n",
              " 0,\n",
              " 1,\n",
              " 0,\n",
              " 0,\n",
              " 1,\n",
              " 0,\n",
              " 0,\n",
              " 1,\n",
              " 1,\n",
              " 0,\n",
              " 1,\n",
              " 1,\n",
              " 1,\n",
              " 1,\n",
              " 1,\n",
              " 0,\n",
              " 1,\n",
              " 1,\n",
              " 0,\n",
              " 1,\n",
              " 0,\n",
              " 0,\n",
              " 1,\n",
              " 0,\n",
              " 0,\n",
              " 0,\n",
              " 0,\n",
              " 0,\n",
              " 0,\n",
              " 1,\n",
              " 1,\n",
              " 1,\n",
              " 1,\n",
              " 1,\n",
              " 0,\n",
              " 0,\n",
              " 1,\n",
              " 1,\n",
              " 1,\n",
              " 0,\n",
              " 0,\n",
              " 1,\n",
              " 0,\n",
              " 1,\n",
              " 1,\n",
              " 1,\n",
              " 0,\n",
              " 0,\n",
              " 0,\n",
              " 1,\n",
              " 1,\n",
              " 0,\n",
              " 0,\n",
              " 1,\n",
              " 0,\n",
              " 0,\n",
              " 0,\n",
              " 1,\n",
              " 0,\n",
              " 1,\n",
              " 0,\n",
              " 0,\n",
              " 0,\n",
              " 0,\n",
              " 1,\n",
              " 0,\n",
              " 1,\n",
              " 0]"
            ]
          },
          "metadata": {},
          "execution_count": 111
        }
      ],
      "source": [
        "test_generator.classes"
      ]
    },
    {
      "cell_type": "code",
      "execution_count": 112,
      "metadata": {
        "id": "V3TizTL3HIzW",
        "colab": {
          "base_uri": "https://localhost:8080/"
        },
        "outputId": "b549f039-59a2-4b47-fef9-0358cba7c59b"
      },
      "outputs": [
        {
          "output_type": "stream",
          "name": "stdout",
          "text": [
            "0.896774193548387\n",
            "0.8962516733601071\n"
          ]
        }
      ],
      "source": [
        "from sklearn.metrics import classification_report,accuracy_score,f1_score\n",
        "print(accuracy_score(y_test,y_pred))\n",
        "print(f1_score(y_test,y_pred,average='macro'))"
      ]
    },
    {
      "cell_type": "code",
      "execution_count": 113,
      "metadata": {
        "id": "S-Uh9cAnHYHd",
        "colab": {
          "base_uri": "https://localhost:8080/"
        },
        "outputId": "f2b886ce-9783-46d0-efb9-babac151003f"
      },
      "outputs": [
        {
          "output_type": "stream",
          "name": "stdout",
          "text": [
            "              precision    recall  f1-score   support\n",
            "\n",
            "           0       0.88      0.90      0.89        71\n",
            "           1       0.91      0.89      0.90        84\n",
            "\n",
            "    accuracy                           0.90       155\n",
            "   macro avg       0.90      0.90      0.90       155\n",
            "weighted avg       0.90      0.90      0.90       155\n",
            "\n"
          ]
        }
      ],
      "source": [
        "print(classification_report(y_test, y_pred))"
      ]
    },
    {
      "cell_type": "code",
      "source": [
        "from PIL import Image\n",
        "import numpy as np\n",
        "from skimage import transform\n",
        "def load(filenames):\n",
        "   np_image = Image.open(filenames)\n",
        "   np_image = np.array(np_image).astype('float32')/255\n",
        "   np_image = transform.resize(np_image, (224, 224))\n",
        "   np_image = np.expand_dims(np_image, axis=0)\n",
        "   return np_image\n",
        "image = load('/content/dataset/dog.175.jpg')\n",
        "img=np.argmax(model.predict(image),1)\n",
        "image2=load('/content/dataset/cat.101.jpg')\n",
        "img2=np.argmax(model.predict(image2),1)\n"
      ],
      "metadata": {
        "id": "zLqd4Lj-GuNd",
        "colab": {
          "base_uri": "https://localhost:8080/"
        },
        "outputId": "beee5027-bf56-467e-8f49-5ecc5d00aea9"
      },
      "execution_count": 114,
      "outputs": [
        {
          "output_type": "stream",
          "name": "stdout",
          "text": [
            "1/1 [==============================] - 0s 23ms/step\n",
            "1/1 [==============================] - 0s 22ms/step\n"
          ]
        }
      ]
    },
    {
      "cell_type": "code",
      "source": [
        "from skimage import io\n",
        "# Load the image\n",
        "org_img = io.imread('/content/dataset/dog.175.jpg')\n",
        "org_img = transform.resize(org_img, (224, 224))\n",
        "plt.imshow(org_img)\n",
        "plt.text(0.5, 0.5, img, fontsize=18, color='red')\n",
        "plt.show()\n",
        "\n",
        "\n",
        "# Load the image\n",
        "org_img2 = io.imread('/content/dataset/cat.101.jpg')\n",
        "org_img2 = transform.resize(org_img2, (224, 224))\n",
        "plt.imshow(org_img2)\n",
        "plt.text(0, 0, img2, fontsize=18, color='red')\n",
        "plt.show()"
      ],
      "metadata": {
        "colab": {
          "base_uri": "https://localhost:8080/",
          "height": 596
        },
        "id": "uY_b0jAK7fwW",
        "outputId": "6631720e-245a-4229-877f-689bfbff5981"
      },
      "execution_count": 115,
      "outputs": [
        {
          "output_type": "stream",
          "name": "stderr",
          "text": [
            "/usr/local/lib/python3.8/dist-packages/matplotlib/text.py:1165: FutureWarning: elementwise comparison failed; returning scalar instead, but in the future will perform elementwise comparison\n",
            "  if s != self._text:\n"
          ]
        },
        {
          "output_type": "display_data",
          "data": {
            "text/plain": [
              "<Figure size 432x288 with 1 Axes>"
            ],
            "image/png": "[encoded data removed]"
          },
          "metadata": {
            "needs_background": "light"
          }
        },
        {
          "output_type": "display_data",
          "data": {
            "text/plain": [
              "<Figure size 432x288 with 1 Axes>"
            ],
            "image/png": "[encoded data removed]"
          },
          "metadata": {
            "needs_background": "light"
          }
        }
      ]
    },
    {
      "cell_type": "code",
      "execution_count": 116,
      "metadata": {
        "id": "NfGMWKv0Hu06",
        "colab": {
          "base_uri": "https://localhost:8080/",
          "height": 265
        },
        "outputId": "0e8b2bb3-007b-4128-e71e-c39dd0cda8ec"
      },
      "outputs": [
        {
          "output_type": "display_data",
          "data": {
            "text/plain": [
              "<Figure size 432x288 with 2 Axes>"
            ],
            "image/png": "[encoded data removed]"
          },
          "metadata": {
            "needs_background": "light"
          }
        }
      ],
      "source": [
        "import seaborn as sns\n",
        "from sklearn.metrics import confusion_matrix, ConfusionMatrixDisplay\n",
        "cm = confusion_matrix(y_test, y_pred, labels=list(class_names))\n",
        "#disp = ConfusionMatrixDisplay(confusion_matrix=cm,\n",
        "                               #display_labels=list(class_names))\n",
        "sns.heatmap(cm, annot=True, fmt=\"d\")\n",
        "#disp.plot(cmap='Blues')\n",
        "plt.show()"
      ]
    },
    {
      "cell_type": "code",
      "execution_count": 117,
      "metadata": {
        "id": "vzkxPhitIRce",
        "colab": {
          "base_uri": "https://localhost:8080/",
          "height": 287
        },
        "outputId": "95513554-0cfc-4f0e-8507-9bc62fb8af6d"
      },
      "outputs": [
        {
          "output_type": "execute_result",
          "data": {
            "text/plain": [
              "<matplotlib.axes._subplots.AxesSubplot at 0x7f200524e730>"
            ]
          },
          "metadata": {},
          "execution_count": 117
        },
        {
          "output_type": "display_data",
          "data": {
            "text/plain": [
              "<Figure size 432x288 with 2 Axes>"
            ],
            "image/png": "[encoded data removed]"
          },
          "metadata": {
            "needs_background": "light"
          }
        }
      ],
      "source": [
        "cm = cm.astype('float') / cm.sum(axis=1)\n",
        "sns.heatmap(cm, annot=True, \n",
        "            fmt='.2%')"
      ]
    }
  ],
  "metadata": {
    "accelerator": "GPU",
    "colab": {
      "provenance": [],
      "include_colab_link": true
    },
    "gpuClass": "standard",
    "kernelspec": {
      "display_name": "Python 3",
      "name": "python3"
    },
    "language_info": {
      "name": "python"
    }
  },
  "nbformat": 4,
  "nbformat_minor": 0
}